{
 "cells": [
  {
   "cell_type": "markdown",
   "id": "16c10744",
   "metadata": {},
   "source": [
    "# PipInstall"
   ]
  },
  {
   "cell_type": "markdown",
   "id": "7c1ff90d",
   "metadata": {},
   "source": [
    "#### sk10841\n",
    "#### ss17526\n",
    "#### ap8589"
   ]
  },
  {
   "cell_type": "markdown",
   "id": "464374ce",
   "metadata": {},
   "source": [
    "## \"Music-Based User Matchmaking System: Connecting People Through Shared Music Preferences\""
   ]
  },
  {
   "cell_type": "markdown",
   "id": "ef5909d2",
   "metadata": {},
   "source": [
    "### Connecting to spark"
   ]
  },
  {
   "cell_type": "code",
   "execution_count": 1,
   "id": "1156f889",
   "metadata": {},
   "outputs": [
    {
     "name": "stderr",
     "output_type": "stream",
     "text": [
      "Setting default log level to \"WARN\".\n",
      "To adjust logging level use sc.setLogLevel(newLevel). For SparkR, use setLogLevel(newLevel).\n",
      "24/12/11 13:17:42 WARN NativeCodeLoader: Unable to load native-hadoop library for your platform... using builtin-java classes where applicable\n"
     ]
    },
    {
     "data": {
      "text/html": [
       "\n",
       "        <div>\n",
       "            <p><b>SparkContext</b></p>\n",
       "\n",
       "            <p><a href=\"http://macbookair.lan:4040\">Spark UI</a></p>\n",
       "\n",
       "            <dl>\n",
       "              <dt>Version</dt>\n",
       "                <dd><code>v3.5.3</code></dd>\n",
       "              <dt>Master</dt>\n",
       "                <dd><code>local[*]</code></dd>\n",
       "              <dt>AppName</dt>\n",
       "                <dd><code>Proj</code></dd>\n",
       "            </dl>\n",
       "        </div>\n",
       "        "
      ],
      "text/plain": [
       "<SparkContext master=local[*] appName=Proj>"
      ]
     },
     "execution_count": 1,
     "metadata": {},
     "output_type": "execute_result"
    }
   ],
   "source": [
    "import os\n",
    "import pyspark\n",
    "\n",
    "conf = pyspark.SparkConf()\n",
    "conf = conf.setAppName(\"Proj\")\n",
    "# conf.set('spark.ui.proxyBase', '/user/' + os.environ['JUPYTERHUB_USER'] + '/proxy/4040') ## to setup SPARK UI\n",
    "# conf = conf.set('spark.jars', os.environ['GRAPHFRAMES_PATH']) ## graphframes in spark configuration\n",
    "conf.set(\"spark.driver.bindAddress\", \"127.0.0.1\")\n",
    "conf.set('spark.sql.repl.eagerEval.enabled', True)\n",
    "conf.set('spark.driver.memory','8g')\n",
    "conf.set(\"spark.sql.execution.arrow.pyspark.enabled\", \"true\")\n",
    "conf.set(\"spark.sql.mapKeyDedupPolicy\", \"LAST_WIN\")\n",
    "\n",
    "sc = pyspark.SparkContext(conf=conf)\n",
    "sc"
   ]
  },
  {
   "cell_type": "code",
   "execution_count": 2,
   "id": "cec209b7",
   "metadata": {},
   "outputs": [
    {
     "name": "stderr",
     "output_type": "stream",
     "text": [
      "/Users/sudhanshusali/miniconda3/lib/python3.12/site-packages/pyspark/sql/context.py:158: FutureWarning: Deprecated in 3.0.0. Use SparkSession.builder.getOrCreate() instead.\n",
      "  warnings.warn(\n"
     ]
    },
    {
     "data": {
      "text/plain": [
       "<pyspark.sql.context.SQLContext at 0x12330f920>"
      ]
     },
     "execution_count": 2,
     "metadata": {},
     "output_type": "execute_result"
    }
   ],
   "source": [
    "spark = pyspark.SQLContext.getOrCreate(sc)\n",
    "spark"
   ]
  },
  {
   "cell_type": "code",
   "execution_count": 4,
   "id": "580a980a",
   "metadata": {},
   "outputs": [
    {
     "name": "stdout",
     "output_type": "stream",
     "text": [
      "Collecting OpenAI\n",
      "  Downloading openai-1.57.2-py3-none-any.whl.metadata (24 kB)\n",
      "Requirement already satisfied: anyio<5,>=3.5.0 in /Users/sudhanshusali/miniconda3/lib/python3.12/site-packages (from OpenAI) (4.6.2.post1)\n",
      "Requirement already satisfied: distro<2,>=1.7.0 in /Users/sudhanshusali/miniconda3/lib/python3.12/site-packages (from OpenAI) (1.9.0)\n",
      "Requirement already satisfied: httpx<1,>=0.23.0 in /Users/sudhanshusali/miniconda3/lib/python3.12/site-packages (from OpenAI) (0.28.0)\n",
      "Collecting jiter<1,>=0.4.0 (from OpenAI)\n",
      "  Downloading jiter-0.8.2-cp312-cp312-macosx_11_0_arm64.whl.metadata (5.2 kB)\n",
      "Collecting pydantic<3,>=1.9.0 (from OpenAI)\n",
      "  Downloading pydantic-2.10.3-py3-none-any.whl.metadata (172 kB)\n",
      "Requirement already satisfied: sniffio in /Users/sudhanshusali/miniconda3/lib/python3.12/site-packages (from OpenAI) (1.3.1)\n",
      "Requirement already satisfied: tqdm>4 in /Users/sudhanshusali/miniconda3/lib/python3.12/site-packages (from OpenAI) (4.66.4)\n",
      "Collecting typing-extensions<5,>=4.11 (from OpenAI)\n",
      "  Using cached typing_extensions-4.12.2-py3-none-any.whl.metadata (3.0 kB)\n",
      "Requirement already satisfied: idna>=2.8 in /Users/sudhanshusali/miniconda3/lib/python3.12/site-packages (from anyio<5,>=3.5.0->OpenAI) (3.7)\n",
      "Requirement already satisfied: certifi in /Users/sudhanshusali/miniconda3/lib/python3.12/site-packages (from httpx<1,>=0.23.0->OpenAI) (2024.7.4)\n",
      "Requirement already satisfied: httpcore==1.* in /Users/sudhanshusali/miniconda3/lib/python3.12/site-packages (from httpx<1,>=0.23.0->OpenAI) (1.0.7)\n",
      "Requirement already satisfied: h11<0.15,>=0.13 in /Users/sudhanshusali/miniconda3/lib/python3.12/site-packages (from httpcore==1.*->httpx<1,>=0.23.0->OpenAI) (0.14.0)\n",
      "Collecting annotated-types>=0.6.0 (from pydantic<3,>=1.9.0->OpenAI)\n",
      "  Downloading annotated_types-0.7.0-py3-none-any.whl.metadata (15 kB)\n",
      "Collecting pydantic-core==2.27.1 (from pydantic<3,>=1.9.0->OpenAI)\n",
      "  Downloading pydantic_core-2.27.1-cp312-cp312-macosx_11_0_arm64.whl.metadata (6.6 kB)\n",
      "Downloading openai-1.57.2-py3-none-any.whl (389 kB)\n",
      "Downloading jiter-0.8.2-cp312-cp312-macosx_11_0_arm64.whl (310 kB)\n",
      "Downloading pydantic-2.10.3-py3-none-any.whl (456 kB)\n",
      "Downloading pydantic_core-2.27.1-cp312-cp312-macosx_11_0_arm64.whl (1.8 MB)\n",
      "\u001b[2K   \u001b[90m━━━━━━━━━━━━━━━━━━━━━━━━━━━━━━━━━━━━━━━━\u001b[0m \u001b[32m1.8/1.8 MB\u001b[0m \u001b[31m13.1 MB/s\u001b[0m eta \u001b[36m0:00:00\u001b[0m\n",
      "\u001b[?25hUsing cached typing_extensions-4.12.2-py3-none-any.whl (37 kB)\n",
      "Downloading annotated_types-0.7.0-py3-none-any.whl (13 kB)\n",
      "Installing collected packages: typing-extensions, jiter, annotated-types, pydantic-core, pydantic, OpenAI\n",
      "Successfully installed OpenAI-1.57.2 annotated-types-0.7.0 jiter-0.8.2 pydantic-2.10.3 pydantic-core-2.27.1 typing-extensions-4.12.2\n"
     ]
    }
   ],
   "source": [
    "!pip install OpenAI"
   ]
  },
  {
   "cell_type": "code",
   "execution_count": 79,
   "id": "685c8430",
   "metadata": {},
   "outputs": [],
   "source": [
    "#Loading the necessary libraries\n",
    "\n",
    "from pyspark.sql.functions import *\n",
    "from pyspark.sql.window import Window\n",
    "from pyspark.ml.feature import StringIndexer, OneHotEncoder, VectorAssembler\n",
    "from pyspark.ml.recommendation import ALS\n",
    "from pyspark.ml.evaluation import RegressionEvaluator\n",
    "import numpy as np\n",
    "from pyspark.sql.types import FloatType\n",
    "from pyspark.ml import Pipeline\n",
    "from pyspark.ml.tuning import ParamGridBuilder, TrainValidationSplit\n",
    "from openai import OpenAI"
   ]
  },
  {
   "cell_type": "code",
   "execution_count": 5,
   "id": "23cc63c4",
   "metadata": {},
   "outputs": [],
   "source": [
    "os.environ[\"OPENAI_API_KEY\"] = \"key\"\n",
    "\n",
    "client = OpenAI(api_key=os.environ.get(\"OPENAI_API_KEY\"))"
   ]
  },
  {
   "cell_type": "markdown",
   "id": "169251c5",
   "metadata": {},
   "source": [
    "### Loading the dataset"
   ]
  },
  {
   "cell_type": "code",
   "execution_count": 6,
   "id": "05a113f2",
   "metadata": {},
   "outputs": [],
   "source": [
    "#Load the datasets\n",
    "tracks_df = spark.read.csv(\"data/tracks.csv\", header=True, inferSchema=True)\n",
    "cust_df = spark.read.csv(\"data/cust.csv\", header=True, inferSchema=True)\n",
    "music_df = spark.read.csv(\"data/music.csv\", header=True, inferSchema=True)"
   ]
  },
  {
   "cell_type": "code",
   "execution_count": 7,
   "id": "398a80d9",
   "metadata": {},
   "outputs": [
    {
     "data": {
      "text/plain": [
       "1"
      ]
     },
     "execution_count": 7,
     "metadata": {},
     "output_type": "execute_result"
    }
   ],
   "source": [
    "sc._jsc.sc().getExecutorMemoryStatus().size()"
   ]
  },
  {
   "cell_type": "code",
   "execution_count": 8,
   "id": "904c70de",
   "metadata": {},
   "outputs": [
    {
     "data": {
      "text/html": [
       "<table border='1'>\n",
       "<tr><th>EventID</th><th>CustID</th><th>TrackId</th><th>DateTime</th><th>Mobile</th><th>ZipCode</th></tr>\n",
       "<tr><td>0</td><td>48</td><td>453</td><td>10/23/14 3:26</td><td>0</td><td>72132</td></tr>\n",
       "<tr><td>1</td><td>1081</td><td>19</td><td>10/15/14 18:32</td><td>1</td><td>17307</td></tr>\n",
       "<tr><td>2</td><td>532</td><td>36</td><td>12/10/14 15:33</td><td>1</td><td>66216</td></tr>\n",
       "<tr><td>3</td><td>2641</td><td>822</td><td>10/20/14 2:24</td><td>1</td><td>36690</td></tr>\n",
       "<tr><td>4</td><td>2251</td><td>338</td><td>11/18/14 7:16</td><td>1</td><td>61377</td></tr>\n",
       "</table>\n"
      ],
      "text/plain": [
       "+-------+------+-------+--------------+------+-------+\n",
       "|EventID|CustID|TrackId|      DateTime|Mobile|ZipCode|\n",
       "+-------+------+-------+--------------+------+-------+\n",
       "|      0|    48|    453| 10/23/14 3:26|     0|  72132|\n",
       "|      1|  1081|     19|10/15/14 18:32|     1|  17307|\n",
       "|      2|   532|     36|12/10/14 15:33|     1|  66216|\n",
       "|      3|  2641|    822| 10/20/14 2:24|     1|  36690|\n",
       "|      4|  2251|    338| 11/18/14 7:16|     1|  61377|\n",
       "+-------+------+-------+--------------+------+-------+"
      ]
     },
     "execution_count": 8,
     "metadata": {},
     "output_type": "execute_result"
    }
   ],
   "source": [
    "tracks_df.limit(5)"
   ]
  },
  {
   "cell_type": "code",
   "execution_count": 9,
   "id": "25930cca",
   "metadata": {},
   "outputs": [
    {
     "data": {
      "text/plain": [
       "[('EventID', 'int'),\n",
       " ('CustID', 'int'),\n",
       " ('TrackId', 'int'),\n",
       " ('DateTime', 'string'),\n",
       " ('Mobile', 'int'),\n",
       " ('ZipCode', 'int')]"
      ]
     },
     "execution_count": 9,
     "metadata": {},
     "output_type": "execute_result"
    }
   ],
   "source": [
    "tracks_df.dtypes"
   ]
  },
  {
   "cell_type": "markdown",
   "id": "e206f93f",
   "metadata": {},
   "source": [
    "### Exploratory Data Analysis"
   ]
  },
  {
   "cell_type": "code",
   "execution_count": 10,
   "id": "2f144c04",
   "metadata": {},
   "outputs": [
    {
     "name": "stdout",
     "output_type": "stream",
     "text": [
      "+-------+------+-------+--------+------+-------+\n",
      "|EventID|CustID|TrackId|DateTime|Mobile|ZipCode|\n",
      "+-------+------+-------+--------+------+-------+\n",
      "|      0|     0|      0|       0|     0|      0|\n",
      "+-------+------+-------+--------+------+-------+\n",
      "\n"
     ]
    }
   ],
   "source": [
    "# Ensuring the data is clean\n",
    "null_counts = tracks_df.select([count(when(col(c).isNull(), c)).alias(c) for c in tracks_df.columns])\n",
    "null_counts.show()"
   ]
  },
  {
   "cell_type": "code",
   "execution_count": 11,
   "id": "dc1cf1e6",
   "metadata": {},
   "outputs": [
    {
     "data": {
      "text/plain": [
       "(1000000, 6)"
      ]
     },
     "execution_count": 11,
     "metadata": {},
     "output_type": "execute_result"
    }
   ],
   "source": [
    "#Displaying shape\n",
    "(tracks_df.count(), len(tracks_df.columns))"
   ]
  },
  {
   "cell_type": "code",
   "execution_count": 12,
   "id": "396686c3",
   "metadata": {},
   "outputs": [
    {
     "data": {
      "text/html": [
       "<table border='1'>\n",
       "<tr><th>CustID</th><th>Name</th><th>Gender</th><th>Address</th><th>zip</th><th>SignDate</th><th>Status</th><th>Level</th><th>Campaign</th><th>LinkedWithApps</th></tr>\n",
       "<tr><td>0</td><td>Gregory Koval</td><td>0</td><td>13004 Easy Cider ...</td><td>72132</td><td>06/04/2013</td><td>1</td><td>1</td><td>1</td><td>0</td></tr>\n",
       "<tr><td>1</td><td>Robert Gordon</td><td>0</td><td>10497 Thunder Hic...</td><td>17307</td><td>07/27/2013</td><td>1</td><td>1</td><td>1</td><td>0</td></tr>\n",
       "<tr><td>2</td><td>Paula Peltier</td><td>0</td><td>10084 Easy Gate Bend</td><td>66216</td><td>01/13/2013</td><td>1</td><td>0</td><td>4</td><td>1</td></tr>\n",
       "<tr><td>3</td><td>Francine Gray</td><td>0</td><td>54845 Bent Pony H...</td><td>36690</td><td>07/11/2013</td><td>1</td><td>1</td><td>1</td><td>1</td></tr>\n",
       "<tr><td>4</td><td>David Garcia</td><td>0</td><td>8551 Tawny Fox Villa</td><td>61377</td><td>09/09/2012</td><td>1</td><td>0</td><td>1</td><td>1</td></tr>\n",
       "</table>\n"
      ],
      "text/plain": [
       "+------+-------------+------+--------------------+-----+----------+------+-----+--------+--------------+\n",
       "|CustID|         Name|Gender|             Address|  zip|  SignDate|Status|Level|Campaign|LinkedWithApps|\n",
       "+------+-------------+------+--------------------+-----+----------+------+-----+--------+--------------+\n",
       "|     0|Gregory Koval|     0|13004 Easy Cider ...|72132|06/04/2013|     1|    1|       1|             0|\n",
       "|     1|Robert Gordon|     0|10497 Thunder Hic...|17307|07/27/2013|     1|    1|       1|             0|\n",
       "|     2|Paula Peltier|     0|10084 Easy Gate Bend|66216|01/13/2013|     1|    0|       4|             1|\n",
       "|     3|Francine Gray|     0|54845 Bent Pony H...|36690|07/11/2013|     1|    1|       1|             1|\n",
       "|     4| David Garcia|     0|8551 Tawny Fox Villa|61377|09/09/2012|     1|    0|       1|             1|\n",
       "+------+-------------+------+--------------------+-----+----------+------+-----+--------+--------------+"
      ]
     },
     "execution_count": 12,
     "metadata": {},
     "output_type": "execute_result"
    }
   ],
   "source": [
    "cust_df.limit(5)"
   ]
  },
  {
   "cell_type": "code",
   "execution_count": 13,
   "id": "069dbf46",
   "metadata": {},
   "outputs": [
    {
     "data": {
      "text/plain": [
       "[('CustID', 'int'),\n",
       " ('Name', 'string'),\n",
       " ('Gender', 'int'),\n",
       " ('Address', 'string'),\n",
       " ('zip', 'int'),\n",
       " ('SignDate', 'string'),\n",
       " ('Status', 'int'),\n",
       " ('Level', 'int'),\n",
       " ('Campaign', 'int'),\n",
       " ('LinkedWithApps', 'int')]"
      ]
     },
     "execution_count": 13,
     "metadata": {},
     "output_type": "execute_result"
    }
   ],
   "source": [
    "cust_df.dtypes"
   ]
  },
  {
   "cell_type": "code",
   "execution_count": 14,
   "id": "e2497e5a",
   "metadata": {},
   "outputs": [
    {
     "name": "stdout",
     "output_type": "stream",
     "text": [
      "+------+----+------+-------+---+--------+------+-----+--------+--------------+\n",
      "|CustID|Name|Gender|Address|zip|SignDate|Status|Level|Campaign|LinkedWithApps|\n",
      "+------+----+------+-------+---+--------+------+-----+--------+--------------+\n",
      "|     0|   0|     0|      0|  0|       0|     0|    0|       0|             0|\n",
      "+------+----+------+-------+---+--------+------+-----+--------+--------------+\n",
      "\n"
     ]
    }
   ],
   "source": [
    "null_counts = cust_df.select([count(when(col(c).isNull(), c)).alias(c) for c in cust_df.columns])\n",
    "null_counts.show()"
   ]
  },
  {
   "cell_type": "code",
   "execution_count": 15,
   "id": "39e938b8",
   "metadata": {},
   "outputs": [
    {
     "data": {
      "text/plain": [
       "(5000, 10)"
      ]
     },
     "execution_count": 15,
     "metadata": {},
     "output_type": "execute_result"
    }
   ],
   "source": [
    "#Displaying shape\n",
    "(cust_df.count(), len(cust_df.columns))"
   ]
  },
  {
   "cell_type": "code",
   "execution_count": 16,
   "id": "7c0b5397",
   "metadata": {},
   "outputs": [
    {
     "data": {
      "text/html": [
       "<table border='1'>\n",
       "<tr><th>TrackId</th><th>Title</th><th>Artist</th><th>Length</th></tr>\n",
       "<tr><td>0</td><td>Caught Up In You</td><td>.38 Special</td><td>200</td></tr>\n",
       "<tr><td>1</td><td>Fantasy Girl</td><td>.38 Special</td><td>219</td></tr>\n",
       "<tr><td>2</td><td>Hold On Loosely</td><td>.38 Special</td><td>253</td></tr>\n",
       "<tr><td>3</td><td>Hold On Loosely  ...</td><td>.38 Special</td><td>154</td></tr>\n",
       "<tr><td>4</td><td>Art For Arts Sake</td><td>10cc</td><td>341</td></tr>\n",
       "</table>\n"
      ],
      "text/plain": [
       "+-------+--------------------+-----------+------+\n",
       "|TrackId|               Title|     Artist|Length|\n",
       "+-------+--------------------+-----------+------+\n",
       "|      0|    Caught Up In You|.38 Special|   200|\n",
       "|      1|        Fantasy Girl|.38 Special|   219|\n",
       "|      2|     Hold On Loosely|.38 Special|   253|\n",
       "|      3|Hold On Loosely  ...|.38 Special|   154|\n",
       "|      4|   Art For Arts Sake|       10cc|   341|\n",
       "+-------+--------------------+-----------+------+"
      ]
     },
     "execution_count": 16,
     "metadata": {},
     "output_type": "execute_result"
    }
   ],
   "source": [
    "music_df.limit(5)"
   ]
  },
  {
   "cell_type": "code",
   "execution_count": 17,
   "id": "4c0ae89f",
   "metadata": {},
   "outputs": [
    {
     "data": {
      "text/plain": [
       "[('TrackId', 'int'),\n",
       " ('Title', 'string'),\n",
       " ('Artist', 'string'),\n",
       " ('Length', 'int')]"
      ]
     },
     "execution_count": 17,
     "metadata": {},
     "output_type": "execute_result"
    }
   ],
   "source": [
    "music_df.dtypes"
   ]
  },
  {
   "cell_type": "code",
   "execution_count": 18,
   "id": "56a829f5",
   "metadata": {},
   "outputs": [
    {
     "name": "stdout",
     "output_type": "stream",
     "text": [
      "+-------+-----+------+------+\n",
      "|TrackId|Title|Artist|Length|\n",
      "+-------+-----+------+------+\n",
      "|      0|    0|     0|    15|\n",
      "+-------+-----+------+------+\n",
      "\n"
     ]
    }
   ],
   "source": [
    "null_counts = music_df.select([count(when(col(c).isNull(), c)).alias(c) for c in music_df.columns])\n",
    "null_counts.show()"
   ]
  },
  {
   "cell_type": "code",
   "execution_count": 19,
   "id": "08c95dc1",
   "metadata": {},
   "outputs": [
    {
     "data": {
      "text/plain": [
       "(1750, 4)"
      ]
     },
     "execution_count": 19,
     "metadata": {},
     "output_type": "execute_result"
    }
   ],
   "source": [
    "#Displaying shape\n",
    "(music_df.count(), len(music_df.columns))"
   ]
  },
  {
   "cell_type": "markdown",
   "id": "dd957bc9",
   "metadata": {},
   "source": [
    "### Data Preprocessing"
   ]
  },
  {
   "cell_type": "code",
   "execution_count": 20,
   "id": "92a93af5",
   "metadata": {},
   "outputs": [],
   "source": [
    "#Making column names consistent\n",
    "tracks_df = tracks_df.withColumnRenamed(\"ZipCode\", \"ListeningZIP\").withColumnRenamed(\"CustID\", \"CustomerID\")\n",
    "cust_df = cust_df.withColumnRenamed(\"zip\", \"ZIP\").withColumnRenamed(\"CustID\", \"CustomerID\")"
   ]
  },
  {
   "cell_type": "code",
   "execution_count": 21,
   "id": "8b775796",
   "metadata": {},
   "outputs": [],
   "source": [
    "#converting to date dtype\n",
    "cust_df = cust_df.withColumn(\"SignDate\", to_date(\"SignDate\", \"MM/dd/yyyy\"))"
   ]
  },
  {
   "cell_type": "code",
   "execution_count": 22,
   "id": "aeeb8fb7",
   "metadata": {},
   "outputs": [
    {
     "name": "stdout",
     "output_type": "stream",
     "text": [
      "+----------+----+------+-------+---+--------+------+-----+--------+--------------+\n",
      "|CustomerID|Name|Gender|Address|ZIP|SignDate|Status|Level|Campaign|LinkedWithApps|\n",
      "+----------+----+------+-------+---+--------+------+-----+--------+--------------+\n",
      "|         0|   0|     0|      0|  0|       0|     0|    0|       0|             0|\n",
      "+----------+----+------+-------+---+--------+------+-----+--------+--------------+\n",
      "\n"
     ]
    }
   ],
   "source": [
    "null_counts = cust_df.select([count(when(col(c).isNull(), c)).alias(c) for c in cust_df.columns])\n",
    "null_counts.show()"
   ]
  },
  {
   "cell_type": "code",
   "execution_count": 23,
   "id": "841b87d1",
   "metadata": {},
   "outputs": [
    {
     "data": {
      "text/html": [
       "<table border='1'>\n",
       "<tr><th>CustomerID</th><th>Name</th><th>Gender</th><th>Address</th><th>ZIP</th><th>SignDate</th><th>Status</th><th>Level</th><th>Campaign</th><th>LinkedWithApps</th></tr>\n",
       "<tr><td>0</td><td>Gregory Koval</td><td>0</td><td>13004 Easy Cider ...</td><td>72132</td><td>2013-06-04</td><td>1</td><td>1</td><td>1</td><td>0</td></tr>\n",
       "<tr><td>1</td><td>Robert Gordon</td><td>0</td><td>10497 Thunder Hic...</td><td>17307</td><td>2013-07-27</td><td>1</td><td>1</td><td>1</td><td>0</td></tr>\n",
       "<tr><td>2</td><td>Paula Peltier</td><td>0</td><td>10084 Easy Gate Bend</td><td>66216</td><td>2013-01-13</td><td>1</td><td>0</td><td>4</td><td>1</td></tr>\n",
       "<tr><td>3</td><td>Francine Gray</td><td>0</td><td>54845 Bent Pony H...</td><td>36690</td><td>2013-07-11</td><td>1</td><td>1</td><td>1</td><td>1</td></tr>\n",
       "<tr><td>4</td><td>David Garcia</td><td>0</td><td>8551 Tawny Fox Villa</td><td>61377</td><td>2012-09-09</td><td>1</td><td>0</td><td>1</td><td>1</td></tr>\n",
       "</table>\n"
      ],
      "text/plain": [
       "+----------+-------------+------+--------------------+-----+----------+------+-----+--------+--------------+\n",
       "|CustomerID|         Name|Gender|             Address|  ZIP|  SignDate|Status|Level|Campaign|LinkedWithApps|\n",
       "+----------+-------------+------+--------------------+-----+----------+------+-----+--------+--------------+\n",
       "|         0|Gregory Koval|     0|13004 Easy Cider ...|72132|2013-06-04|     1|    1|       1|             0|\n",
       "|         1|Robert Gordon|     0|10497 Thunder Hic...|17307|2013-07-27|     1|    1|       1|             0|\n",
       "|         2|Paula Peltier|     0|10084 Easy Gate Bend|66216|2013-01-13|     1|    0|       4|             1|\n",
       "|         3|Francine Gray|     0|54845 Bent Pony H...|36690|2013-07-11|     1|    1|       1|             1|\n",
       "|         4| David Garcia|     0|8551 Tawny Fox Villa|61377|2012-09-09|     1|    0|       1|             1|\n",
       "+----------+-------------+------+--------------------+-----+----------+------+-----+--------+--------------+"
      ]
     },
     "execution_count": 23,
     "metadata": {},
     "output_type": "execute_result"
    }
   ],
   "source": [
    "cust_df.limit(5)"
   ]
  },
  {
   "cell_type": "code",
   "execution_count": 24,
   "id": "16dbae91",
   "metadata": {},
   "outputs": [],
   "source": [
    "tracks_df = tracks_df.withColumn(\"DateTime\", to_timestamp(\"DateTime\", \"M/d/yy H:mm\"))"
   ]
  },
  {
   "cell_type": "code",
   "execution_count": 25,
   "id": "8edbb527",
   "metadata": {},
   "outputs": [
    {
     "data": {
      "text/html": [
       "<table border='1'>\n",
       "<tr><th>EventID</th><th>CustomerID</th><th>TrackId</th><th>DateTime</th><th>Mobile</th><th>ListeningZIP</th></tr>\n",
       "<tr><td>0</td><td>48</td><td>453</td><td>2014-10-23 03:26:00</td><td>0</td><td>72132</td></tr>\n",
       "<tr><td>1</td><td>1081</td><td>19</td><td>2014-10-15 18:32:00</td><td>1</td><td>17307</td></tr>\n",
       "<tr><td>2</td><td>532</td><td>36</td><td>2014-12-10 15:33:00</td><td>1</td><td>66216</td></tr>\n",
       "<tr><td>3</td><td>2641</td><td>822</td><td>2014-10-20 02:24:00</td><td>1</td><td>36690</td></tr>\n",
       "<tr><td>4</td><td>2251</td><td>338</td><td>2014-11-18 07:16:00</td><td>1</td><td>61377</td></tr>\n",
       "</table>\n"
      ],
      "text/plain": [
       "+-------+----------+-------+-------------------+------+------------+\n",
       "|EventID|CustomerID|TrackId|           DateTime|Mobile|ListeningZIP|\n",
       "+-------+----------+-------+-------------------+------+------------+\n",
       "|      0|        48|    453|2014-10-23 03:26:00|     0|       72132|\n",
       "|      1|      1081|     19|2014-10-15 18:32:00|     1|       17307|\n",
       "|      2|       532|     36|2014-12-10 15:33:00|     1|       66216|\n",
       "|      3|      2641|    822|2014-10-20 02:24:00|     1|       36690|\n",
       "|      4|      2251|    338|2014-11-18 07:16:00|     1|       61377|\n",
       "+-------+----------+-------+-------------------+------+------------+"
      ]
     },
     "execution_count": 25,
     "metadata": {},
     "output_type": "execute_result"
    }
   ],
   "source": [
    "tracks_df.limit(5)"
   ]
  },
  {
   "cell_type": "code",
   "execution_count": 26,
   "id": "c1cc8e80",
   "metadata": {},
   "outputs": [
    {
     "name": "stderr",
     "output_type": "stream",
     "text": [
      "\r\n",
      "[Stage 37:=======>                                                  (1 + 7) / 8]\r"
     ]
    },
    {
     "name": "stdout",
     "output_type": "stream",
     "text": [
      "+-------+----------+-------+--------+------+------------+\n",
      "|EventID|CustomerID|TrackId|DateTime|Mobile|ListeningZIP|\n",
      "+-------+----------+-------+--------+------+------------+\n",
      "|      0|         0|      0|       0|     0|           0|\n",
      "+-------+----------+-------+--------+------+------------+\n",
      "\n"
     ]
    },
    {
     "name": "stderr",
     "output_type": "stream",
     "text": [
      "\r\n",
      "                                                                                \r"
     ]
    }
   ],
   "source": [
    "null_counts = tracks_df.select([count(when(col(c).isNull(), c)).alias(c) for c in tracks_df.columns])\n",
    "null_counts.show()"
   ]
  },
  {
   "cell_type": "code",
   "execution_count": 27,
   "id": "db97f9cb",
   "metadata": {},
   "outputs": [
    {
     "name": "stdout",
     "output_type": "stream",
     "text": [
      "+-------+--------------------+--------------------+------+\n",
      "|TrackId|               Title|              Artist|Length|\n",
      "+-------+--------------------+--------------------+------+\n",
      "|    326|   Helplessly Hoping|          Crosby,195|  NULL|\n",
      "|    327|      Long Time Gone|    David Crosby,229|  NULL|\n",
      "|    328|      Southern Cross|          Crosby,204|  NULL|\n",
      "|    330|            Carry On|          Crosby,271|  NULL|\n",
      "|    331|                Ohio|          Crosby,180|  NULL|\n",
      "|    332|           Woodstock|          Crosby,147|  NULL|\n",
      "|    480|  From the Beginning|         Emerson,264|  NULL|\n",
      "|    481|             Hoedown|         Emerson,205|  NULL|\n",
      "|    483|           Lucky Man|         Emerson,359|  NULL|\n",
      "|    484|Still You Turn Me On|         Emerson,228|  NULL|\n",
      "|    602|    Marakesh Express|Gold Star Ballroo...|  NULL|\n",
      "|    830|     Just Dropped In|    Kenny Rogers,139|  NULL|\n",
      "|    927|        Conquistador|London Symphony O...|  NULL|\n",
      "|   1202|         In The Mood|           Plant,271|  NULL|\n",
      "|   1452|      Spill the Wine|     The Animals,134|  NULL|\n",
      "+-------+--------------------+--------------------+------+\n",
      "\n"
     ]
    }
   ],
   "source": [
    "music_df.filter(col(\"Length\").isNull()).show()"
   ]
  },
  {
   "cell_type": "code",
   "execution_count": 28,
   "id": "db19d18c",
   "metadata": {},
   "outputs": [
    {
     "name": "stdout",
     "output_type": "stream",
     "text": [
      "+-------+--------------------+-----------+------+\n",
      "|TrackId|               Title|     Artist|Length|\n",
      "+-------+--------------------+-----------+------+\n",
      "|      0|    Caught Up In You|.38 Special|   200|\n",
      "|      1|        Fantasy Girl|.38 Special|   219|\n",
      "|      2|     Hold On Loosely|.38 Special|   253|\n",
      "|      3|Hold On Loosely  ...|.38 Special|   154|\n",
      "|      4|   Art For Arts Sake|       10cc|   341|\n",
      "+-------+--------------------+-----------+------+\n",
      "only showing top 5 rows\n",
      "\n"
     ]
    }
   ],
   "source": [
    "#Dropping the na values since they are less than 5% of the total\n",
    "music_df = music_df.na.drop(subset=[\"Length\"])\n",
    "music_df.show(5)"
   ]
  },
  {
   "cell_type": "code",
   "execution_count": 29,
   "id": "949331e2",
   "metadata": {},
   "outputs": [
    {
     "data": {
      "text/plain": [
       "(1735, 4)"
      ]
     },
     "execution_count": 29,
     "metadata": {},
     "output_type": "execute_result"
    }
   ],
   "source": [
    "#Displaying shape\n",
    "(music_df.count(), len(music_df.columns))"
   ]
  },
  {
   "cell_type": "code",
   "execution_count": 30,
   "id": "96df178c",
   "metadata": {},
   "outputs": [],
   "source": [
    "# Join datasets\n",
    "songs = tracks_df.join(music_df, on=\"TrackId\", how=\"inner\")"
   ]
  },
  {
   "cell_type": "code",
   "execution_count": 31,
   "id": "934542df",
   "metadata": {},
   "outputs": [
    {
     "data": {
      "text/html": [
       "<table border='1'>\n",
       "<tr><th>TrackId</th><th>EventID</th><th>CustomerID</th><th>DateTime</th><th>Mobile</th><th>ListeningZIP</th><th>Title</th><th>Artist</th><th>Length</th></tr>\n",
       "<tr><td>453</td><td>0</td><td>48</td><td>2014-10-23 03:26:00</td><td>0</td><td>72132</td><td>Strange Magic</td><td>Electric Light Or...</td><td>170</td></tr>\n",
       "<tr><td>19</td><td>1</td><td>1081</td><td>2014-10-15 18:32:00</td><td>1</td><td>17307</td><td>Money Talks</td><td>AC/DC</td><td>323</td></tr>\n",
       "<tr><td>36</td><td>2</td><td>532</td><td>2014-12-10 15:33:00</td><td>1</td><td>66216</td><td>Big Ten Inch Record</td><td>Aerosmith</td><td>204</td></tr>\n",
       "<tr><td>822</td><td>3</td><td>2641</td><td>2014-10-20 02:24:00</td><td>1</td><td>36690</td><td>The Ripper</td><td>Judas Priest</td><td>122</td></tr>\n",
       "<tr><td>338</td><td>4</td><td>2251</td><td>2014-11-18 07:16:00</td><td>1</td><td>61377</td><td>Welcome To The Bo...</td><td>David &amp; David</td><td>269</td></tr>\n",
       "<tr><td>6</td><td>5</td><td>1811</td><td>2014-11-18 02:00:00</td><td>1</td><td>20115</td><td>Loser</td><td>3 Doors Down</td><td>127</td></tr>\n",
       "<tr><td>24</td><td>6</td><td>3644</td><td>2014-12-12 15:24:00</td><td>1</td><td>15330</td><td>Shot Down In Flames</td><td>AC/DC</td><td>326</td></tr>\n",
       "<tr><td>726</td><td>7</td><td>250</td><td>2014-10-07 09:48:00</td><td>0</td><td>33570</td><td>Right Here Right Now</td><td>Jesus Jones</td><td>232</td></tr>\n",
       "<tr><td>442</td><td>8</td><td>1782</td><td>2014-12-30 15:27:00</td><td>1</td><td>41240</td><td>Baby Hold On</td><td>Eddie Money</td><td>298</td></tr>\n",
       "<tr><td>775</td><td>9</td><td>2932</td><td>2014-11-12 07:45:00</td><td>0</td><td>63565</td><td>On the Dark Side</td><td>John Cafferty</td><td>213</td></tr>\n",
       "</table>\n"
      ],
      "text/plain": [
       "+-------+-------+----------+-------------------+------+------------+--------------------+--------------------+------+\n",
       "|TrackId|EventID|CustomerID|           DateTime|Mobile|ListeningZIP|               Title|              Artist|Length|\n",
       "+-------+-------+----------+-------------------+------+------------+--------------------+--------------------+------+\n",
       "|    453|      0|        48|2014-10-23 03:26:00|     0|       72132|       Strange Magic|Electric Light Or...|   170|\n",
       "|     19|      1|      1081|2014-10-15 18:32:00|     1|       17307|         Money Talks|               AC/DC|   323|\n",
       "|     36|      2|       532|2014-12-10 15:33:00|     1|       66216| Big Ten Inch Record|           Aerosmith|   204|\n",
       "|    822|      3|      2641|2014-10-20 02:24:00|     1|       36690|          The Ripper|        Judas Priest|   122|\n",
       "|    338|      4|      2251|2014-11-18 07:16:00|     1|       61377|Welcome To The Bo...|       David & David|   269|\n",
       "|      6|      5|      1811|2014-11-18 02:00:00|     1|       20115|               Loser|        3 Doors Down|   127|\n",
       "|     24|      6|      3644|2014-12-12 15:24:00|     1|       15330| Shot Down In Flames|               AC/DC|   326|\n",
       "|    726|      7|       250|2014-10-07 09:48:00|     0|       33570|Right Here Right Now|         Jesus Jones|   232|\n",
       "|    442|      8|      1782|2014-12-30 15:27:00|     1|       41240|        Baby Hold On|         Eddie Money|   298|\n",
       "|    775|      9|      2932|2014-11-12 07:45:00|     0|       63565|    On the Dark Side|       John Cafferty|   213|\n",
       "+-------+-------+----------+-------------------+------+------------+--------------------+--------------------+------+"
      ]
     },
     "execution_count": 31,
     "metadata": {},
     "output_type": "execute_result"
    }
   ],
   "source": [
    "songs.limit(10)"
   ]
  },
  {
   "cell_type": "code",
   "execution_count": 32,
   "id": "2f91a4c0",
   "metadata": {},
   "outputs": [],
   "source": [
    "#Combined all three datasets\n",
    "joined_df = songs.join(cust_df, on=\"CustomerID\", how=\"inner\")"
   ]
  },
  {
   "cell_type": "code",
   "execution_count": 33,
   "id": "cef01fc2",
   "metadata": {},
   "outputs": [
    {
     "data": {
      "text/html": [
       "<table border='1'>\n",
       "<tr><th>CustomerID</th><th>TrackId</th><th>EventID</th><th>DateTime</th><th>Mobile</th><th>ListeningZIP</th><th>Title</th><th>Artist</th><th>Length</th><th>Name</th><th>Gender</th><th>Address</th><th>ZIP</th><th>SignDate</th><th>Status</th><th>Level</th><th>Campaign</th><th>LinkedWithApps</th></tr>\n",
       "<tr><td>48</td><td>453</td><td>0</td><td>2014-10-23 03:26:00</td><td>0</td><td>72132</td><td>Strange Magic</td><td>Electric Light Or...</td><td>170</td><td>Lucas Pizano</td><td>0</td><td>2723 Stony Beaver...</td><td>99256</td><td>2012-11-02</td><td>1</td><td>0</td><td>3</td><td>1</td></tr>\n",
       "<tr><td>1081</td><td>19</td><td>1</td><td>2014-10-15 18:32:00</td><td>1</td><td>17307</td><td>Money Talks</td><td>AC/DC</td><td>323</td><td>Kenneth Rodgers</td><td>0</td><td>74413 Heather Elm...</td><td>30301</td><td>2013-05-14</td><td>0</td><td>1</td><td>1</td><td>1</td></tr>\n",
       "<tr><td>532</td><td>36</td><td>2</td><td>2014-12-10 15:33:00</td><td>1</td><td>66216</td><td>Big Ten Inch Record</td><td>Aerosmith</td><td>204</td><td>Carlos Kirk</td><td>0</td><td>14 Hidden Bear Ci...</td><td>90745</td><td>2013-07-14</td><td>0</td><td>2</td><td>1</td><td>1</td></tr>\n",
       "<tr><td>2641</td><td>822</td><td>3</td><td>2014-10-20 02:24:00</td><td>1</td><td>36690</td><td>The Ripper</td><td>Judas Priest</td><td>122</td><td>Charlene Boyd</td><td>0</td><td>5967 Stony Branch...</td><td>4645</td><td>2013-03-26</td><td>1</td><td>1</td><td>1</td><td>0</td></tr>\n",
       "<tr><td>2251</td><td>338</td><td>4</td><td>2014-11-18 07:16:00</td><td>1</td><td>61377</td><td>Welcome To The Bo...</td><td>David &amp; David</td><td>269</td><td>Mary Decker</td><td>0</td><td>16355 Pretty Pand...</td><td>40580</td><td>2013-06-23</td><td>1</td><td>1</td><td>0</td><td>1</td></tr>\n",
       "<tr><td>1811</td><td>6</td><td>5</td><td>2014-11-18 02:00:00</td><td>1</td><td>20115</td><td>Loser</td><td>3 Doors Down</td><td>127</td><td>Joshua Reyna</td><td>0</td><td>987 Cotton Maple ...</td><td>24574</td><td>2013-01-14</td><td>1</td><td>1</td><td>1</td><td>1</td></tr>\n",
       "<tr><td>3644</td><td>24</td><td>6</td><td>2014-12-12 15:24:00</td><td>1</td><td>15330</td><td>Shot Down In Flames</td><td>AC/DC</td><td>326</td><td>Cynthia Moses</td><td>1</td><td>86610 Misty Necta...</td><td>23857</td><td>2013-06-25</td><td>1</td><td>0</td><td>1</td><td>0</td></tr>\n",
       "<tr><td>250</td><td>726</td><td>7</td><td>2014-10-07 09:48:00</td><td>0</td><td>33570</td><td>Right Here Right Now</td><td>Jesus Jones</td><td>232</td><td>Nell Rosenblum</td><td>1</td><td>18820 Birch Mill ...</td><td>72443</td><td>2012-12-05</td><td>1</td><td>0</td><td>1</td><td>1</td></tr>\n",
       "<tr><td>1782</td><td>442</td><td>8</td><td>2014-12-30 15:27:00</td><td>1</td><td>41240</td><td>Baby Hold On</td><td>Eddie Money</td><td>298</td><td>Jason Witzel</td><td>0</td><td>76 Jagged Barn Turn</td><td>28086</td><td>2013-07-19</td><td>1</td><td>2</td><td>3</td><td>1</td></tr>\n",
       "<tr><td>2932</td><td>775</td><td>9</td><td>2014-11-12 07:45:00</td><td>0</td><td>63565</td><td>On the Dark Side</td><td>John Cafferty</td><td>213</td><td>Darlene Rahn</td><td>0</td><td>4 Tawny Beaver Ledge</td><td>7737</td><td>2013-05-11</td><td>1</td><td>0</td><td>1</td><td>0</td></tr>\n",
       "</table>\n"
      ],
      "text/plain": [
       "+----------+-------+-------+-------------------+------+------------+--------------------+--------------------+------+---------------+------+--------------------+-----+----------+------+-----+--------+--------------+\n",
       "|CustomerID|TrackId|EventID|           DateTime|Mobile|ListeningZIP|               Title|              Artist|Length|           Name|Gender|             Address|  ZIP|  SignDate|Status|Level|Campaign|LinkedWithApps|\n",
       "+----------+-------+-------+-------------------+------+------------+--------------------+--------------------+------+---------------+------+--------------------+-----+----------+------+-----+--------+--------------+\n",
       "|        48|    453|      0|2014-10-23 03:26:00|     0|       72132|       Strange Magic|Electric Light Or...|   170|   Lucas Pizano|     0|2723 Stony Beaver...|99256|2012-11-02|     1|    0|       3|             1|\n",
       "|      1081|     19|      1|2014-10-15 18:32:00|     1|       17307|         Money Talks|               AC/DC|   323|Kenneth Rodgers|     0|74413 Heather Elm...|30301|2013-05-14|     0|    1|       1|             1|\n",
       "|       532|     36|      2|2014-12-10 15:33:00|     1|       66216| Big Ten Inch Record|           Aerosmith|   204|    Carlos Kirk|     0|14 Hidden Bear Ci...|90745|2013-07-14|     0|    2|       1|             1|\n",
       "|      2641|    822|      3|2014-10-20 02:24:00|     1|       36690|          The Ripper|        Judas Priest|   122|  Charlene Boyd|     0|5967 Stony Branch...| 4645|2013-03-26|     1|    1|       1|             0|\n",
       "|      2251|    338|      4|2014-11-18 07:16:00|     1|       61377|Welcome To The Bo...|       David & David|   269|    Mary Decker|     0|16355 Pretty Pand...|40580|2013-06-23|     1|    1|       0|             1|\n",
       "|      1811|      6|      5|2014-11-18 02:00:00|     1|       20115|               Loser|        3 Doors Down|   127|   Joshua Reyna|     0|987 Cotton Maple ...|24574|2013-01-14|     1|    1|       1|             1|\n",
       "|      3644|     24|      6|2014-12-12 15:24:00|     1|       15330| Shot Down In Flames|               AC/DC|   326|  Cynthia Moses|     1|86610 Misty Necta...|23857|2013-06-25|     1|    0|       1|             0|\n",
       "|       250|    726|      7|2014-10-07 09:48:00|     0|       33570|Right Here Right Now|         Jesus Jones|   232| Nell Rosenblum|     1|18820 Birch Mill ...|72443|2012-12-05|     1|    0|       1|             1|\n",
       "|      1782|    442|      8|2014-12-30 15:27:00|     1|       41240|        Baby Hold On|         Eddie Money|   298|   Jason Witzel|     0| 76 Jagged Barn Turn|28086|2013-07-19|     1|    2|       3|             1|\n",
       "|      2932|    775|      9|2014-11-12 07:45:00|     0|       63565|    On the Dark Side|       John Cafferty|   213|   Darlene Rahn|     0|4 Tawny Beaver Ledge| 7737|2013-05-11|     1|    0|       1|             0|\n",
       "+----------+-------+-------+-------------------+------+------------+--------------------+--------------------+------+---------------+------+--------------------+-----+----------+------+-----+--------+--------------+"
      ]
     },
     "execution_count": 33,
     "metadata": {},
     "output_type": "execute_result"
    }
   ],
   "source": [
    "joined_df.limit(10)"
   ]
  },
  {
   "cell_type": "code",
   "execution_count": 34,
   "id": "fcacac36",
   "metadata": {},
   "outputs": [
    {
     "name": "stderr",
     "output_type": "stream",
     "text": [
      "[Stage 57:=======>                                                  (1 + 7) / 8]\r"
     ]
    },
    {
     "name": "stdout",
     "output_type": "stream",
     "text": [
      "+----------+-------+-------+--------+------+------------+-----+------+------+----+------+-------+---+--------+------+-----+--------+--------------+\n",
      "|CustomerID|TrackId|EventID|DateTime|Mobile|ListeningZIP|Title|Artist|Length|Name|Gender|Address|ZIP|SignDate|Status|Level|Campaign|LinkedWithApps|\n",
      "+----------+-------+-------+--------+------+------------+-----+------+------+----+------+-------+---+--------+------+-----+--------+--------------+\n",
      "|         0|      0|      0|       0|     0|           0|    0|     0|     0|   0|     0|      0|  0|       0|     0|    0|       0|             0|\n",
      "+----------+-------+-------+--------+------+------------+-----+------+------+----+------+-------+---+--------+------+-----+--------+--------------+\n",
      "\n"
     ]
    },
    {
     "name": "stderr",
     "output_type": "stream",
     "text": [
      "\r\n",
      "                                                                                \r"
     ]
    }
   ],
   "source": [
    "null_counts = joined_df.select([count(when(col(c).isNull(), c)).alias(c) for c in joined_df.columns])\n",
    "null_counts.show()"
   ]
  },
  {
   "cell_type": "code",
   "execution_count": 35,
   "id": "9364fcf2",
   "metadata": {},
   "outputs": [
    {
     "data": {
      "text/plain": [
       "(991755, 18)"
      ]
     },
     "execution_count": 35,
     "metadata": {},
     "output_type": "execute_result"
    }
   ],
   "source": [
    "#Displaying shape\n",
    "(joined_df.count(), len(joined_df.columns))"
   ]
  },
  {
   "cell_type": "markdown",
   "id": "efd4257a",
   "metadata": {},
   "source": [
    "### Feature Engineering"
   ]
  },
  {
   "cell_type": "code",
   "execution_count": 36,
   "id": "8412c597",
   "metadata": {},
   "outputs": [],
   "source": [
    "# Time-based features\n",
    "joined_df = joined_df.withColumn(\"DateTime\", to_timestamp(\"DateTime\"))\n",
    "joined_df = joined_df.withColumn(\"DayOfWeek\", dayofweek(\"DateTime\"))\n",
    "joined_df = joined_df.withColumn(\"HourOfDay\", hour(\"DateTime\"))\n",
    "joined_df = joined_df.withColumn(\"IsWeekend\", when((col(\"DayOfWeek\") == 1) | (col(\"DayOfWeek\") == 7), 1).otherwise(0))"
   ]
  },
  {
   "cell_type": "code",
   "execution_count": 37,
   "id": "f8f5b15b",
   "metadata": {},
   "outputs": [
    {
     "name": "stderr",
     "output_type": "stream",
     "text": [
      "Java HotSpot(TM) 64-Bit Server VM warning: CodeCache is full. Compiler has been disabled.\n",
      "Java HotSpot(TM) 64-Bit Server VM warning: Try increasing the code cache size using -XX:ReservedCodeCacheSize=\n"
     ]
    },
    {
     "name": "stdout",
     "output_type": "stream",
     "text": [
      "CodeCache: size=131072Kb used=44453Kb max_used=44453Kb free=86618Kb\n",
      " bounds [0x0000000101f2c000, 0x0000000104adc000, 0x0000000109f2c000]\n",
      " total_blobs=15043 nmethods=14083 adapters=871\n",
      " compilation: disabled (not enough contiguous free space left)\n"
     ]
    },
    {
     "data": {
      "text/html": [
       "<table border='1'>\n",
       "<tr><th>CustomerID</th><th>TrackId</th><th>EventID</th><th>DateTime</th><th>Mobile</th><th>ListeningZIP</th><th>Title</th><th>Artist</th><th>Length</th><th>Name</th><th>Gender</th><th>Address</th><th>ZIP</th><th>SignDate</th><th>Status</th><th>Level</th><th>Campaign</th><th>LinkedWithApps</th><th>DayOfWeek</th><th>HourOfDay</th><th>IsWeekend</th></tr>\n",
       "<tr><td>48</td><td>453</td><td>0</td><td>2014-10-23 03:26:00</td><td>0</td><td>72132</td><td>Strange Magic</td><td>Electric Light Or...</td><td>170</td><td>Lucas Pizano</td><td>0</td><td>2723 Stony Beaver...</td><td>99256</td><td>2012-11-02</td><td>1</td><td>0</td><td>3</td><td>1</td><td>5</td><td>3</td><td>0</td></tr>\n",
       "<tr><td>1081</td><td>19</td><td>1</td><td>2014-10-15 18:32:00</td><td>1</td><td>17307</td><td>Money Talks</td><td>AC/DC</td><td>323</td><td>Kenneth Rodgers</td><td>0</td><td>74413 Heather Elm...</td><td>30301</td><td>2013-05-14</td><td>0</td><td>1</td><td>1</td><td>1</td><td>4</td><td>18</td><td>0</td></tr>\n",
       "<tr><td>532</td><td>36</td><td>2</td><td>2014-12-10 15:33:00</td><td>1</td><td>66216</td><td>Big Ten Inch Record</td><td>Aerosmith</td><td>204</td><td>Carlos Kirk</td><td>0</td><td>14 Hidden Bear Ci...</td><td>90745</td><td>2013-07-14</td><td>0</td><td>2</td><td>1</td><td>1</td><td>4</td><td>15</td><td>0</td></tr>\n",
       "<tr><td>2641</td><td>822</td><td>3</td><td>2014-10-20 02:24:00</td><td>1</td><td>36690</td><td>The Ripper</td><td>Judas Priest</td><td>122</td><td>Charlene Boyd</td><td>0</td><td>5967 Stony Branch...</td><td>4645</td><td>2013-03-26</td><td>1</td><td>1</td><td>1</td><td>0</td><td>2</td><td>2</td><td>0</td></tr>\n",
       "<tr><td>2251</td><td>338</td><td>4</td><td>2014-11-18 07:16:00</td><td>1</td><td>61377</td><td>Welcome To The Bo...</td><td>David &amp; David</td><td>269</td><td>Mary Decker</td><td>0</td><td>16355 Pretty Pand...</td><td>40580</td><td>2013-06-23</td><td>1</td><td>1</td><td>0</td><td>1</td><td>3</td><td>7</td><td>0</td></tr>\n",
       "<tr><td>1811</td><td>6</td><td>5</td><td>2014-11-18 02:00:00</td><td>1</td><td>20115</td><td>Loser</td><td>3 Doors Down</td><td>127</td><td>Joshua Reyna</td><td>0</td><td>987 Cotton Maple ...</td><td>24574</td><td>2013-01-14</td><td>1</td><td>1</td><td>1</td><td>1</td><td>3</td><td>2</td><td>0</td></tr>\n",
       "<tr><td>3644</td><td>24</td><td>6</td><td>2014-12-12 15:24:00</td><td>1</td><td>15330</td><td>Shot Down In Flames</td><td>AC/DC</td><td>326</td><td>Cynthia Moses</td><td>1</td><td>86610 Misty Necta...</td><td>23857</td><td>2013-06-25</td><td>1</td><td>0</td><td>1</td><td>0</td><td>6</td><td>15</td><td>0</td></tr>\n",
       "<tr><td>250</td><td>726</td><td>7</td><td>2014-10-07 09:48:00</td><td>0</td><td>33570</td><td>Right Here Right Now</td><td>Jesus Jones</td><td>232</td><td>Nell Rosenblum</td><td>1</td><td>18820 Birch Mill ...</td><td>72443</td><td>2012-12-05</td><td>1</td><td>0</td><td>1</td><td>1</td><td>3</td><td>9</td><td>0</td></tr>\n",
       "<tr><td>1782</td><td>442</td><td>8</td><td>2014-12-30 15:27:00</td><td>1</td><td>41240</td><td>Baby Hold On</td><td>Eddie Money</td><td>298</td><td>Jason Witzel</td><td>0</td><td>76 Jagged Barn Turn</td><td>28086</td><td>2013-07-19</td><td>1</td><td>2</td><td>3</td><td>1</td><td>3</td><td>15</td><td>0</td></tr>\n",
       "<tr><td>2932</td><td>775</td><td>9</td><td>2014-11-12 07:45:00</td><td>0</td><td>63565</td><td>On the Dark Side</td><td>John Cafferty</td><td>213</td><td>Darlene Rahn</td><td>0</td><td>4 Tawny Beaver Ledge</td><td>7737</td><td>2013-05-11</td><td>1</td><td>0</td><td>1</td><td>0</td><td>4</td><td>7</td><td>0</td></tr>\n",
       "</table>\n"
      ],
      "text/plain": [
       "+----------+-------+-------+-------------------+------+------------+--------------------+--------------------+------+---------------+------+--------------------+-----+----------+------+-----+--------+--------------+---------+---------+---------+\n",
       "|CustomerID|TrackId|EventID|           DateTime|Mobile|ListeningZIP|               Title|              Artist|Length|           Name|Gender|             Address|  ZIP|  SignDate|Status|Level|Campaign|LinkedWithApps|DayOfWeek|HourOfDay|IsWeekend|\n",
       "+----------+-------+-------+-------------------+------+------------+--------------------+--------------------+------+---------------+------+--------------------+-----+----------+------+-----+--------+--------------+---------+---------+---------+\n",
       "|        48|    453|      0|2014-10-23 03:26:00|     0|       72132|       Strange Magic|Electric Light Or...|   170|   Lucas Pizano|     0|2723 Stony Beaver...|99256|2012-11-02|     1|    0|       3|             1|        5|        3|        0|\n",
       "|      1081|     19|      1|2014-10-15 18:32:00|     1|       17307|         Money Talks|               AC/DC|   323|Kenneth Rodgers|     0|74413 Heather Elm...|30301|2013-05-14|     0|    1|       1|             1|        4|       18|        0|\n",
       "|       532|     36|      2|2014-12-10 15:33:00|     1|       66216| Big Ten Inch Record|           Aerosmith|   204|    Carlos Kirk|     0|14 Hidden Bear Ci...|90745|2013-07-14|     0|    2|       1|             1|        4|       15|        0|\n",
       "|      2641|    822|      3|2014-10-20 02:24:00|     1|       36690|          The Ripper|        Judas Priest|   122|  Charlene Boyd|     0|5967 Stony Branch...| 4645|2013-03-26|     1|    1|       1|             0|        2|        2|        0|\n",
       "|      2251|    338|      4|2014-11-18 07:16:00|     1|       61377|Welcome To The Bo...|       David & David|   269|    Mary Decker|     0|16355 Pretty Pand...|40580|2013-06-23|     1|    1|       0|             1|        3|        7|        0|\n",
       "|      1811|      6|      5|2014-11-18 02:00:00|     1|       20115|               Loser|        3 Doors Down|   127|   Joshua Reyna|     0|987 Cotton Maple ...|24574|2013-01-14|     1|    1|       1|             1|        3|        2|        0|\n",
       "|      3644|     24|      6|2014-12-12 15:24:00|     1|       15330| Shot Down In Flames|               AC/DC|   326|  Cynthia Moses|     1|86610 Misty Necta...|23857|2013-06-25|     1|    0|       1|             0|        6|       15|        0|\n",
       "|       250|    726|      7|2014-10-07 09:48:00|     0|       33570|Right Here Right Now|         Jesus Jones|   232| Nell Rosenblum|     1|18820 Birch Mill ...|72443|2012-12-05|     1|    0|       1|             1|        3|        9|        0|\n",
       "|      1782|    442|      8|2014-12-30 15:27:00|     1|       41240|        Baby Hold On|         Eddie Money|   298|   Jason Witzel|     0| 76 Jagged Barn Turn|28086|2013-07-19|     1|    2|       3|             1|        3|       15|        0|\n",
       "|      2932|    775|      9|2014-11-12 07:45:00|     0|       63565|    On the Dark Side|       John Cafferty|   213|   Darlene Rahn|     0|4 Tawny Beaver Ledge| 7737|2013-05-11|     1|    0|       1|             0|        4|        7|        0|\n",
       "+----------+-------+-------+-------------------+------+------------+--------------------+--------------------+------+---------------+------+--------------------+-----+----------+------+-----+--------+--------------+---------+---------+---------+"
      ]
     },
     "execution_count": 37,
     "metadata": {},
     "output_type": "execute_result"
    }
   ],
   "source": [
    "joined_df.limit(10)"
   ]
  },
  {
   "cell_type": "code",
   "execution_count": 38,
   "id": "b3554e36",
   "metadata": {},
   "outputs": [],
   "source": [
    "# joined_df.limit(10).toPandas()"
   ]
  },
  {
   "cell_type": "code",
   "execution_count": 39,
   "id": "c2063188",
   "metadata": {},
   "outputs": [],
   "source": [
    "# User listening frequency\n",
    "window_spec = Window.partitionBy(\"CustomerID\")\n",
    "joined_df = joined_df.withColumn(\"UserListeningCount\", count(\"EventID\").over(window_spec))"
   ]
  },
  {
   "cell_type": "code",
   "execution_count": 40,
   "id": "54836951",
   "metadata": {},
   "outputs": [
    {
     "name": "stderr",
     "output_type": "stream",
     "text": [
      "                                                                                \r"
     ]
    },
    {
     "data": {
      "text/html": [
       "<table border='1'>\n",
       "<tr><th>CustomerID</th><th>TrackId</th><th>EventID</th><th>DateTime</th><th>Mobile</th><th>ListeningZIP</th><th>Title</th><th>Artist</th><th>Length</th><th>Name</th><th>Gender</th><th>Address</th><th>ZIP</th><th>SignDate</th><th>Status</th><th>Level</th><th>Campaign</th><th>LinkedWithApps</th><th>DayOfWeek</th><th>HourOfDay</th><th>IsWeekend</th><th>UserListeningCount</th></tr>\n",
       "<tr><td>26</td><td>146</td><td>388</td><td>2014-11-09 16:02:00</td><td>0</td><td>83274</td><td>Baby Come Back</td><td>Billy Rankin</td><td>352</td><td>Pauline Mead</td><td>1</td><td>47575 Heather App...</td><td>17509</td><td>2013-03-29</td><td>1</td><td>0</td><td>4</td><td>1</td><td>1</td><td>16</td><td>1</td><td>1356</td></tr>\n",
       "<tr><td>26</td><td>210</td><td>2454</td><td>2014-11-04 06:02:00</td><td>1</td><td>77375</td><td>Living On A Prayer</td><td>Bon Jovi</td><td>240</td><td>Pauline Mead</td><td>1</td><td>47575 Heather App...</td><td>17509</td><td>2013-03-29</td><td>1</td><td>0</td><td>4</td><td>1</td><td>3</td><td>6</td><td>0</td><td>1356</td></tr>\n",
       "<tr><td>26</td><td>8</td><td>2475</td><td>2014-12-26 20:39:00</td><td>0</td><td>33307</td><td>Back In Black</td><td>AC/DC</td><td>304</td><td>Pauline Mead</td><td>1</td><td>47575 Heather App...</td><td>17509</td><td>2013-03-29</td><td>1</td><td>0</td><td>4</td><td>1</td><td>6</td><td>20</td><td>0</td><td>1356</td></tr>\n",
       "<tr><td>26</td><td>195</td><td>2613</td><td>2014-12-20 22:16:00</td><td>0</td><td>23293</td><td>Katmandu</td><td>Bob Seger</td><td>173</td><td>Pauline Mead</td><td>1</td><td>47575 Heather App...</td><td>17509</td><td>2013-03-29</td><td>1</td><td>0</td><td>4</td><td>1</td><td>7</td><td>22</td><td>1</td><td>1356</td></tr>\n",
       "<tr><td>26</td><td>141</td><td>2626</td><td>2014-12-12 12:02:00</td><td>0</td><td>54175</td><td>SCENES FROM AN IT...</td><td>BILLY JOEL</td><td>269</td><td>Pauline Mead</td><td>1</td><td>47575 Heather App...</td><td>17509</td><td>2013-03-29</td><td>1</td><td>0</td><td>4</td><td>1</td><td>6</td><td>12</td><td>0</td><td>1356</td></tr>\n",
       "<tr><td>26</td><td>69</td><td>2997</td><td>2014-12-23 10:19:00</td><td>0</td><td>78344</td><td>House Of Fire</td><td>Alice Cooper</td><td>224</td><td>Pauline Mead</td><td>1</td><td>47575 Heather App...</td><td>17509</td><td>2013-03-29</td><td>1</td><td>0</td><td>4</td><td>1</td><td>3</td><td>10</td><td>0</td><td>1356</td></tr>\n",
       "<tr><td>26</td><td>1351</td><td>4296</td><td>2014-10-06 05:26:00</td><td>0</td><td>51354</td><td>Abracadabra</td><td>Steve Miller</td><td>323</td><td>Pauline Mead</td><td>1</td><td>47575 Heather App...</td><td>17509</td><td>2013-03-29</td><td>1</td><td>0</td><td>4</td><td>1</td><td>2</td><td>5</td><td>0</td><td>1356</td></tr>\n",
       "<tr><td>26</td><td>5</td><td>4600</td><td>2014-12-07 20:48:00</td><td>0</td><td>72165</td><td>Kryptonite</td><td>3 Doors Down</td><td>221</td><td>Pauline Mead</td><td>1</td><td>47575 Heather App...</td><td>17509</td><td>2013-03-29</td><td>1</td><td>0</td><td>4</td><td>1</td><td>1</td><td>20</td><td>1</td><td>1356</td></tr>\n",
       "<tr><td>26</td><td>787</td><td>5437</td><td>2014-10-27 15:00:00</td><td>1</td><td>63563</td><td>Cherry Bomb</td><td>John Mellencamp</td><td>163</td><td>Pauline Mead</td><td>1</td><td>47575 Heather App...</td><td>17509</td><td>2013-03-29</td><td>1</td><td>0</td><td>4</td><td>1</td><td>2</td><td>15</td><td>0</td><td>1356</td></tr>\n",
       "<tr><td>26</td><td>60</td><td>7481</td><td>2014-10-28 09:53:00</td><td>0</td><td>49834</td><td>You See Me Crying</td><td>Aerosmith</td><td>163</td><td>Pauline Mead</td><td>1</td><td>47575 Heather App...</td><td>17509</td><td>2013-03-29</td><td>1</td><td>0</td><td>4</td><td>1</td><td>3</td><td>9</td><td>0</td><td>1356</td></tr>\n",
       "</table>\n"
      ],
      "text/plain": [
       "+----------+-------+-------+-------------------+------+------------+--------------------+---------------+------+------------+------+--------------------+-----+----------+------+-----+--------+--------------+---------+---------+---------+------------------+\n",
       "|CustomerID|TrackId|EventID|           DateTime|Mobile|ListeningZIP|               Title|         Artist|Length|        Name|Gender|             Address|  ZIP|  SignDate|Status|Level|Campaign|LinkedWithApps|DayOfWeek|HourOfDay|IsWeekend|UserListeningCount|\n",
       "+----------+-------+-------+-------------------+------+------------+--------------------+---------------+------+------------+------+--------------------+-----+----------+------+-----+--------+--------------+---------+---------+---------+------------------+\n",
       "|        26|    146|    388|2014-11-09 16:02:00|     0|       83274|      Baby Come Back|   Billy Rankin|   352|Pauline Mead|     1|47575 Heather App...|17509|2013-03-29|     1|    0|       4|             1|        1|       16|        1|              1356|\n",
       "|        26|    210|   2454|2014-11-04 06:02:00|     1|       77375|  Living On A Prayer|       Bon Jovi|   240|Pauline Mead|     1|47575 Heather App...|17509|2013-03-29|     1|    0|       4|             1|        3|        6|        0|              1356|\n",
       "|        26|      8|   2475|2014-12-26 20:39:00|     0|       33307|       Back In Black|          AC/DC|   304|Pauline Mead|     1|47575 Heather App...|17509|2013-03-29|     1|    0|       4|             1|        6|       20|        0|              1356|\n",
       "|        26|    195|   2613|2014-12-20 22:16:00|     0|       23293|            Katmandu|      Bob Seger|   173|Pauline Mead|     1|47575 Heather App...|17509|2013-03-29|     1|    0|       4|             1|        7|       22|        1|              1356|\n",
       "|        26|    141|   2626|2014-12-12 12:02:00|     0|       54175|SCENES FROM AN IT...|     BILLY JOEL|   269|Pauline Mead|     1|47575 Heather App...|17509|2013-03-29|     1|    0|       4|             1|        6|       12|        0|              1356|\n",
       "|        26|     69|   2997|2014-12-23 10:19:00|     0|       78344|       House Of Fire|   Alice Cooper|   224|Pauline Mead|     1|47575 Heather App...|17509|2013-03-29|     1|    0|       4|             1|        3|       10|        0|              1356|\n",
       "|        26|   1351|   4296|2014-10-06 05:26:00|     0|       51354|         Abracadabra|   Steve Miller|   323|Pauline Mead|     1|47575 Heather App...|17509|2013-03-29|     1|    0|       4|             1|        2|        5|        0|              1356|\n",
       "|        26|      5|   4600|2014-12-07 20:48:00|     0|       72165|          Kryptonite|   3 Doors Down|   221|Pauline Mead|     1|47575 Heather App...|17509|2013-03-29|     1|    0|       4|             1|        1|       20|        1|              1356|\n",
       "|        26|    787|   5437|2014-10-27 15:00:00|     1|       63563|         Cherry Bomb|John Mellencamp|   163|Pauline Mead|     1|47575 Heather App...|17509|2013-03-29|     1|    0|       4|             1|        2|       15|        0|              1356|\n",
       "|        26|     60|   7481|2014-10-28 09:53:00|     0|       49834|   You See Me Crying|      Aerosmith|   163|Pauline Mead|     1|47575 Heather App...|17509|2013-03-29|     1|    0|       4|             1|        3|        9|        0|              1356|\n",
       "+----------+-------+-------+-------------------+------+------------+--------------------+---------------+------+------------+------+--------------------+-----+----------+------+-----+--------+--------------+---------+---------+---------+------------------+"
      ]
     },
     "execution_count": 40,
     "metadata": {},
     "output_type": "execute_result"
    }
   ],
   "source": [
    "joined_df.limit(10)\n",
    "# joined_df.limit(10).toPandas()"
   ]
  },
  {
   "cell_type": "code",
   "execution_count": 41,
   "id": "b5ceba93",
   "metadata": {},
   "outputs": [],
   "source": [
    "# Track popularity\n",
    "track_window = Window.partitionBy(\"TrackId\")\n",
    "joined_df = joined_df.withColumn(\"TrackPopularity\", count(\"EventID\").over(track_window))"
   ]
  },
  {
   "cell_type": "code",
   "execution_count": 42,
   "id": "aaceefe3",
   "metadata": {},
   "outputs": [],
   "source": [
    "# User-Track interaction features\n",
    "user_track_window = Window.partitionBy(\"CustomerID\", \"TrackId\")\n",
    "joined_df = joined_df.withColumn(\"UserTrackInteractionCount\", count(\"EventID\").over(user_track_window))"
   ]
  },
  {
   "cell_type": "code",
   "execution_count": 43,
   "id": "d5f7ab26",
   "metadata": {},
   "outputs": [
    {
     "name": "stderr",
     "output_type": "stream",
     "text": [
      "                                                                                \r"
     ]
    },
    {
     "data": {
      "text/html": [
       "<table border='1'>\n",
       "<tr><th>CustomerID</th><th>TrackId</th><th>EventID</th><th>DateTime</th><th>Mobile</th><th>ListeningZIP</th><th>Title</th><th>Artist</th><th>Length</th><th>Name</th><th>Gender</th><th>Address</th><th>ZIP</th><th>SignDate</th><th>Status</th><th>Level</th><th>Campaign</th><th>LinkedWithApps</th><th>DayOfWeek</th><th>HourOfDay</th><th>IsWeekend</th><th>UserListeningCount</th><th>TrackPopularity</th><th>UserTrackInteractionCount</th></tr>\n",
       "<tr><td>0</td><td>26</td><td>114104</td><td>2014-12-21 10:50:00</td><td>1</td><td>74844</td><td>Thunderstruck</td><td>AC/DC</td><td>327</td><td>Gregory Koval</td><td>0</td><td>13004 Easy Cider ...</td><td>72132</td><td>2013-06-04</td><td>1</td><td>1</td><td>1</td><td>0</td><td>1</td><td>10</td><td>1</td><td>7034</td><td>2434</td><td>17</td></tr>\n",
       "<tr><td>0</td><td>26</td><td>239562</td><td>2014-12-18 02:31:00</td><td>1</td><td>5670</td><td>Thunderstruck</td><td>AC/DC</td><td>327</td><td>Gregory Koval</td><td>0</td><td>13004 Easy Cider ...</td><td>72132</td><td>2013-06-04</td><td>1</td><td>1</td><td>1</td><td>0</td><td>5</td><td>2</td><td>0</td><td>7034</td><td>2434</td><td>17</td></tr>\n",
       "<tr><td>0</td><td>26</td><td>258635</td><td>2014-11-20 22:25:00</td><td>0</td><td>25276</td><td>Thunderstruck</td><td>AC/DC</td><td>327</td><td>Gregory Koval</td><td>0</td><td>13004 Easy Cider ...</td><td>72132</td><td>2013-06-04</td><td>1</td><td>1</td><td>1</td><td>0</td><td>5</td><td>22</td><td>0</td><td>7034</td><td>2434</td><td>17</td></tr>\n",
       "<tr><td>0</td><td>26</td><td>325147</td><td>2014-10-23 06:06:00</td><td>1</td><td>20408</td><td>Thunderstruck</td><td>AC/DC</td><td>327</td><td>Gregory Koval</td><td>0</td><td>13004 Easy Cider ...</td><td>72132</td><td>2013-06-04</td><td>1</td><td>1</td><td>1</td><td>0</td><td>5</td><td>6</td><td>0</td><td>7034</td><td>2434</td><td>17</td></tr>\n",
       "<tr><td>0</td><td>26</td><td>353817</td><td>2014-10-10 19:25:00</td><td>1</td><td>98009</td><td>Thunderstruck</td><td>AC/DC</td><td>327</td><td>Gregory Koval</td><td>0</td><td>13004 Easy Cider ...</td><td>72132</td><td>2013-06-04</td><td>1</td><td>1</td><td>1</td><td>0</td><td>6</td><td>19</td><td>0</td><td>7034</td><td>2434</td><td>17</td></tr>\n",
       "<tr><td>0</td><td>26</td><td>363754</td><td>2014-12-03 01:17:00</td><td>0</td><td>27536</td><td>Thunderstruck</td><td>AC/DC</td><td>327</td><td>Gregory Koval</td><td>0</td><td>13004 Easy Cider ...</td><td>72132</td><td>2013-06-04</td><td>1</td><td>1</td><td>1</td><td>0</td><td>4</td><td>1</td><td>0</td><td>7034</td><td>2434</td><td>17</td></tr>\n",
       "<tr><td>0</td><td>26</td><td>417707</td><td>2014-11-19 23:26:00</td><td>1</td><td>34740</td><td>Thunderstruck</td><td>AC/DC</td><td>327</td><td>Gregory Koval</td><td>0</td><td>13004 Easy Cider ...</td><td>72132</td><td>2013-06-04</td><td>1</td><td>1</td><td>1</td><td>0</td><td>4</td><td>23</td><td>0</td><td>7034</td><td>2434</td><td>17</td></tr>\n",
       "<tr><td>0</td><td>26</td><td>491109</td><td>2014-10-12 00:48:00</td><td>1</td><td>64055</td><td>Thunderstruck</td><td>AC/DC</td><td>327</td><td>Gregory Koval</td><td>0</td><td>13004 Easy Cider ...</td><td>72132</td><td>2013-06-04</td><td>1</td><td>1</td><td>1</td><td>0</td><td>1</td><td>0</td><td>1</td><td>7034</td><td>2434</td><td>17</td></tr>\n",
       "<tr><td>0</td><td>26</td><td>527388</td><td>2014-12-01 07:00:00</td><td>0</td><td>19895</td><td>Thunderstruck</td><td>AC/DC</td><td>327</td><td>Gregory Koval</td><td>0</td><td>13004 Easy Cider ...</td><td>72132</td><td>2013-06-04</td><td>1</td><td>1</td><td>1</td><td>0</td><td>2</td><td>7</td><td>0</td><td>7034</td><td>2434</td><td>17</td></tr>\n",
       "<tr><td>0</td><td>26</td><td>552844</td><td>2014-12-08 05:55:00</td><td>1</td><td>18602</td><td>Thunderstruck</td><td>AC/DC</td><td>327</td><td>Gregory Koval</td><td>0</td><td>13004 Easy Cider ...</td><td>72132</td><td>2013-06-04</td><td>1</td><td>1</td><td>1</td><td>0</td><td>2</td><td>5</td><td>0</td><td>7034</td><td>2434</td><td>17</td></tr>\n",
       "</table>\n"
      ],
      "text/plain": [
       "+----------+-------+-------+-------------------+------+------------+-------------+------+------+-------------+------+--------------------+-----+----------+------+-----+--------+--------------+---------+---------+---------+------------------+---------------+-------------------------+\n",
       "|CustomerID|TrackId|EventID|           DateTime|Mobile|ListeningZIP|        Title|Artist|Length|         Name|Gender|             Address|  ZIP|  SignDate|Status|Level|Campaign|LinkedWithApps|DayOfWeek|HourOfDay|IsWeekend|UserListeningCount|TrackPopularity|UserTrackInteractionCount|\n",
       "+----------+-------+-------+-------------------+------+------------+-------------+------+------+-------------+------+--------------------+-----+----------+------+-----+--------+--------------+---------+---------+---------+------------------+---------------+-------------------------+\n",
       "|         0|     26| 114104|2014-12-21 10:50:00|     1|       74844|Thunderstruck| AC/DC|   327|Gregory Koval|     0|13004 Easy Cider ...|72132|2013-06-04|     1|    1|       1|             0|        1|       10|        1|              7034|           2434|                       17|\n",
       "|         0|     26| 239562|2014-12-18 02:31:00|     1|        5670|Thunderstruck| AC/DC|   327|Gregory Koval|     0|13004 Easy Cider ...|72132|2013-06-04|     1|    1|       1|             0|        5|        2|        0|              7034|           2434|                       17|\n",
       "|         0|     26| 258635|2014-11-20 22:25:00|     0|       25276|Thunderstruck| AC/DC|   327|Gregory Koval|     0|13004 Easy Cider ...|72132|2013-06-04|     1|    1|       1|             0|        5|       22|        0|              7034|           2434|                       17|\n",
       "|         0|     26| 325147|2014-10-23 06:06:00|     1|       20408|Thunderstruck| AC/DC|   327|Gregory Koval|     0|13004 Easy Cider ...|72132|2013-06-04|     1|    1|       1|             0|        5|        6|        0|              7034|           2434|                       17|\n",
       "|         0|     26| 353817|2014-10-10 19:25:00|     1|       98009|Thunderstruck| AC/DC|   327|Gregory Koval|     0|13004 Easy Cider ...|72132|2013-06-04|     1|    1|       1|             0|        6|       19|        0|              7034|           2434|                       17|\n",
       "|         0|     26| 363754|2014-12-03 01:17:00|     0|       27536|Thunderstruck| AC/DC|   327|Gregory Koval|     0|13004 Easy Cider ...|72132|2013-06-04|     1|    1|       1|             0|        4|        1|        0|              7034|           2434|                       17|\n",
       "|         0|     26| 417707|2014-11-19 23:26:00|     1|       34740|Thunderstruck| AC/DC|   327|Gregory Koval|     0|13004 Easy Cider ...|72132|2013-06-04|     1|    1|       1|             0|        4|       23|        0|              7034|           2434|                       17|\n",
       "|         0|     26| 491109|2014-10-12 00:48:00|     1|       64055|Thunderstruck| AC/DC|   327|Gregory Koval|     0|13004 Easy Cider ...|72132|2013-06-04|     1|    1|       1|             0|        1|        0|        1|              7034|           2434|                       17|\n",
       "|         0|     26| 527388|2014-12-01 07:00:00|     0|       19895|Thunderstruck| AC/DC|   327|Gregory Koval|     0|13004 Easy Cider ...|72132|2013-06-04|     1|    1|       1|             0|        2|        7|        0|              7034|           2434|                       17|\n",
       "|         0|     26| 552844|2014-12-08 05:55:00|     1|       18602|Thunderstruck| AC/DC|   327|Gregory Koval|     0|13004 Easy Cider ...|72132|2013-06-04|     1|    1|       1|             0|        2|        5|        0|              7034|           2434|                       17|\n",
       "+----------+-------+-------+-------------------+------+------------+-------------+------+------+-------------+------+--------------------+-----+----------+------+-----+--------+--------------+---------+---------+---------+------------------+---------------+-------------------------+"
      ]
     },
     "execution_count": 43,
     "metadata": {},
     "output_type": "execute_result"
    }
   ],
   "source": [
    "joined_df.limit(10)\n",
    "# joined_df.limit(10).toPandas()"
   ]
  },
  {
   "cell_type": "code",
   "execution_count": 44,
   "id": "4bd0a616",
   "metadata": {},
   "outputs": [],
   "source": [
    "# Mobile usage ratio\n",
    "joined_df = joined_df.withColumn(\"MobileUsageRatio\", \n",
    "                                 sum(\"Mobile\").over(window_spec) / count(\"EventID\").over(window_spec))"
   ]
  },
  {
   "cell_type": "code",
   "execution_count": 45,
   "id": "89f5627d",
   "metadata": {},
   "outputs": [],
   "source": [
    "# User tenure\n",
    "joined_df = joined_df.withColumn(\"SignDate\", to_date(\"SignDate\"))\n",
    "joined_df = joined_df.withColumn(\"UserTenure\", datediff(current_date(), \"SignDate\"))"
   ]
  },
  {
   "cell_type": "code",
   "execution_count": 46,
   "id": "96ff91ca",
   "metadata": {},
   "outputs": [
    {
     "name": "stderr",
     "output_type": "stream",
     "text": [
      "24/12/11 13:19:15 WARN SparkStringUtils: Truncated the string representation of a plan since it was too large. This behavior can be adjusted by setting 'spark.sql.debug.maxToStringFields'.\n",
      "                                                                                \r"
     ]
    },
    {
     "data": {
      "text/html": [
       "<table border='1'>\n",
       "<tr><th>CustomerID</th><th>TrackId</th><th>EventID</th><th>DateTime</th><th>Mobile</th><th>ListeningZIP</th><th>Title</th><th>Artist</th><th>Length</th><th>Name</th><th>Gender</th><th>Address</th><th>ZIP</th><th>SignDate</th><th>Status</th><th>Level</th><th>Campaign</th><th>LinkedWithApps</th><th>DayOfWeek</th><th>HourOfDay</th><th>IsWeekend</th><th>UserListeningCount</th><th>TrackPopularity</th><th>UserTrackInteractionCount</th><th>MobileUsageRatio</th><th>UserTenure</th></tr>\n",
       "<tr><td>26</td><td>0</td><td>67019</td><td>2014-12-16 01:21:00</td><td>1</td><td>23825</td><td>Caught Up In You</td><td>.38 Special</td><td>200</td><td>Pauline Mead</td><td>1</td><td>47575 Heather App...</td><td>17509</td><td>2013-03-29</td><td>1</td><td>0</td><td>4</td><td>1</td><td>3</td><td>1</td><td>0</td><td>1356</td><td>12113</td><td>12</td><td>0.5154867256637168</td><td>4275</td></tr>\n",
       "<tr><td>26</td><td>0</td><td>134577</td><td>2014-11-18 01:34:00</td><td>1</td><td>12944</td><td>Caught Up In You</td><td>.38 Special</td><td>200</td><td>Pauline Mead</td><td>1</td><td>47575 Heather App...</td><td>17509</td><td>2013-03-29</td><td>1</td><td>0</td><td>4</td><td>1</td><td>3</td><td>1</td><td>0</td><td>1356</td><td>12113</td><td>12</td><td>0.5154867256637168</td><td>4275</td></tr>\n",
       "<tr><td>26</td><td>0</td><td>160290</td><td>2014-10-04 06:51:00</td><td>1</td><td>27114</td><td>Caught Up In You</td><td>.38 Special</td><td>200</td><td>Pauline Mead</td><td>1</td><td>47575 Heather App...</td><td>17509</td><td>2013-03-29</td><td>1</td><td>0</td><td>4</td><td>1</td><td>7</td><td>6</td><td>1</td><td>1356</td><td>12113</td><td>12</td><td>0.5154867256637168</td><td>4275</td></tr>\n",
       "<tr><td>26</td><td>0</td><td>250326</td><td>2014-11-21 22:12:00</td><td>1</td><td>14170</td><td>Caught Up In You</td><td>.38 Special</td><td>200</td><td>Pauline Mead</td><td>1</td><td>47575 Heather App...</td><td>17509</td><td>2013-03-29</td><td>1</td><td>0</td><td>4</td><td>1</td><td>6</td><td>22</td><td>0</td><td>1356</td><td>12113</td><td>12</td><td>0.5154867256637168</td><td>4275</td></tr>\n",
       "<tr><td>26</td><td>0</td><td>314981</td><td>2014-10-17 23:04:00</td><td>1</td><td>3605</td><td>Caught Up In You</td><td>.38 Special</td><td>200</td><td>Pauline Mead</td><td>1</td><td>47575 Heather App...</td><td>17509</td><td>2013-03-29</td><td>1</td><td>0</td><td>4</td><td>1</td><td>6</td><td>23</td><td>0</td><td>1356</td><td>12113</td><td>12</td><td>0.5154867256637168</td><td>4275</td></tr>\n",
       "<tr><td>26</td><td>0</td><td>349377</td><td>2014-12-19 05:57:00</td><td>0</td><td>71447</td><td>Caught Up In You</td><td>.38 Special</td><td>200</td><td>Pauline Mead</td><td>1</td><td>47575 Heather App...</td><td>17509</td><td>2013-03-29</td><td>1</td><td>0</td><td>4</td><td>1</td><td>6</td><td>5</td><td>0</td><td>1356</td><td>12113</td><td>12</td><td>0.5154867256637168</td><td>4275</td></tr>\n",
       "<tr><td>26</td><td>0</td><td>424704</td><td>2014-10-30 19:09:00</td><td>0</td><td>30094</td><td>Caught Up In You</td><td>.38 Special</td><td>200</td><td>Pauline Mead</td><td>1</td><td>47575 Heather App...</td><td>17509</td><td>2013-03-29</td><td>1</td><td>0</td><td>4</td><td>1</td><td>5</td><td>19</td><td>0</td><td>1356</td><td>12113</td><td>12</td><td>0.5154867256637168</td><td>4275</td></tr>\n",
       "<tr><td>26</td><td>0</td><td>425799</td><td>2014-12-19 18:22:00</td><td>0</td><td>59729</td><td>Caught Up In You</td><td>.38 Special</td><td>200</td><td>Pauline Mead</td><td>1</td><td>47575 Heather App...</td><td>17509</td><td>2013-03-29</td><td>1</td><td>0</td><td>4</td><td>1</td><td>6</td><td>18</td><td>0</td><td>1356</td><td>12113</td><td>12</td><td>0.5154867256637168</td><td>4275</td></tr>\n",
       "<tr><td>26</td><td>0</td><td>512258</td><td>2014-10-31 21:36:00</td><td>0</td><td>17229</td><td>Caught Up In You</td><td>.38 Special</td><td>200</td><td>Pauline Mead</td><td>1</td><td>47575 Heather App...</td><td>17509</td><td>2013-03-29</td><td>1</td><td>0</td><td>4</td><td>1</td><td>6</td><td>21</td><td>0</td><td>1356</td><td>12113</td><td>12</td><td>0.5154867256637168</td><td>4275</td></tr>\n",
       "<tr><td>26</td><td>0</td><td>752288</td><td>2014-11-26 13:53:00</td><td>0</td><td>30313</td><td>Caught Up In You</td><td>.38 Special</td><td>200</td><td>Pauline Mead</td><td>1</td><td>47575 Heather App...</td><td>17509</td><td>2013-03-29</td><td>1</td><td>0</td><td>4</td><td>1</td><td>4</td><td>13</td><td>0</td><td>1356</td><td>12113</td><td>12</td><td>0.5154867256637168</td><td>4275</td></tr>\n",
       "</table>\n"
      ],
      "text/plain": [
       "+----------+-------+-------+-------------------+------+------------+----------------+-----------+------+------------+------+--------------------+-----+----------+------+-----+--------+--------------+---------+---------+---------+------------------+---------------+-------------------------+------------------+----------+\n",
       "|CustomerID|TrackId|EventID|           DateTime|Mobile|ListeningZIP|           Title|     Artist|Length|        Name|Gender|             Address|  ZIP|  SignDate|Status|Level|Campaign|LinkedWithApps|DayOfWeek|HourOfDay|IsWeekend|UserListeningCount|TrackPopularity|UserTrackInteractionCount|  MobileUsageRatio|UserTenure|\n",
       "+----------+-------+-------+-------------------+------+------------+----------------+-----------+------+------------+------+--------------------+-----+----------+------+-----+--------+--------------+---------+---------+---------+------------------+---------------+-------------------------+------------------+----------+\n",
       "|        26|      0|  67019|2014-12-16 01:21:00|     1|       23825|Caught Up In You|.38 Special|   200|Pauline Mead|     1|47575 Heather App...|17509|2013-03-29|     1|    0|       4|             1|        3|        1|        0|              1356|          12113|                       12|0.5154867256637168|      4275|\n",
       "|        26|      0| 134577|2014-11-18 01:34:00|     1|       12944|Caught Up In You|.38 Special|   200|Pauline Mead|     1|47575 Heather App...|17509|2013-03-29|     1|    0|       4|             1|        3|        1|        0|              1356|          12113|                       12|0.5154867256637168|      4275|\n",
       "|        26|      0| 160290|2014-10-04 06:51:00|     1|       27114|Caught Up In You|.38 Special|   200|Pauline Mead|     1|47575 Heather App...|17509|2013-03-29|     1|    0|       4|             1|        7|        6|        1|              1356|          12113|                       12|0.5154867256637168|      4275|\n",
       "|        26|      0| 250326|2014-11-21 22:12:00|     1|       14170|Caught Up In You|.38 Special|   200|Pauline Mead|     1|47575 Heather App...|17509|2013-03-29|     1|    0|       4|             1|        6|       22|        0|              1356|          12113|                       12|0.5154867256637168|      4275|\n",
       "|        26|      0| 314981|2014-10-17 23:04:00|     1|        3605|Caught Up In You|.38 Special|   200|Pauline Mead|     1|47575 Heather App...|17509|2013-03-29|     1|    0|       4|             1|        6|       23|        0|              1356|          12113|                       12|0.5154867256637168|      4275|\n",
       "|        26|      0| 349377|2014-12-19 05:57:00|     0|       71447|Caught Up In You|.38 Special|   200|Pauline Mead|     1|47575 Heather App...|17509|2013-03-29|     1|    0|       4|             1|        6|        5|        0|              1356|          12113|                       12|0.5154867256637168|      4275|\n",
       "|        26|      0| 424704|2014-10-30 19:09:00|     0|       30094|Caught Up In You|.38 Special|   200|Pauline Mead|     1|47575 Heather App...|17509|2013-03-29|     1|    0|       4|             1|        5|       19|        0|              1356|          12113|                       12|0.5154867256637168|      4275|\n",
       "|        26|      0| 425799|2014-12-19 18:22:00|     0|       59729|Caught Up In You|.38 Special|   200|Pauline Mead|     1|47575 Heather App...|17509|2013-03-29|     1|    0|       4|             1|        6|       18|        0|              1356|          12113|                       12|0.5154867256637168|      4275|\n",
       "|        26|      0| 512258|2014-10-31 21:36:00|     0|       17229|Caught Up In You|.38 Special|   200|Pauline Mead|     1|47575 Heather App...|17509|2013-03-29|     1|    0|       4|             1|        6|       21|        0|              1356|          12113|                       12|0.5154867256637168|      4275|\n",
       "|        26|      0| 752288|2014-11-26 13:53:00|     0|       30313|Caught Up In You|.38 Special|   200|Pauline Mead|     1|47575 Heather App...|17509|2013-03-29|     1|    0|       4|             1|        4|       13|        0|              1356|          12113|                       12|0.5154867256637168|      4275|\n",
       "+----------+-------+-------+-------------------+------+------------+----------------+-----------+------+------------+------+--------------------+-----+----------+------+-----+--------+--------------+---------+---------+---------+------------------+---------------+-------------------------+------------------+----------+"
      ]
     },
     "execution_count": 46,
     "metadata": {},
     "output_type": "execute_result"
    }
   ],
   "source": [
    "joined_df.limit(10)\n",
    "# joined_df.limit(10).toPandas()"
   ]
  },
  {
   "cell_type": "code",
   "execution_count": 47,
   "id": "3b423ede",
   "metadata": {},
   "outputs": [],
   "source": [
    "# Genre features\n",
    "artist_indexer = StringIndexer(inputCol=\"Artist\", outputCol=\"ArtistIndex\")\n",
    "artist_encoder = OneHotEncoder(inputCol=\"ArtistIndex\", outputCol=\"ArtistVector\")"
   ]
  },
  {
   "cell_type": "code",
   "execution_count": 48,
   "id": "c9d83733",
   "metadata": {},
   "outputs": [],
   "source": [
    "# Normalize continuous features\n",
    "joined_df = joined_df.withColumn(\"NormalizedLength\", col(\"Length\") / 1000)  # Assuming Length is in seconds"
   ]
  },
  {
   "cell_type": "code",
   "execution_count": 49,
   "id": "f8e825c3",
   "metadata": {},
   "outputs": [
    {
     "name": "stderr",
     "output_type": "stream",
     "text": [
      "                                                                                \r"
     ]
    },
    {
     "data": {
      "text/html": [
       "<table border='1'>\n",
       "<tr><th>CustomerID</th><th>TrackId</th><th>EventID</th><th>DateTime</th><th>Mobile</th><th>ListeningZIP</th><th>Title</th><th>Artist</th><th>Length</th><th>Name</th><th>Gender</th><th>Address</th><th>ZIP</th><th>SignDate</th><th>Status</th><th>Level</th><th>Campaign</th><th>LinkedWithApps</th><th>DayOfWeek</th><th>HourOfDay</th><th>IsWeekend</th><th>UserListeningCount</th><th>TrackPopularity</th><th>UserTrackInteractionCount</th><th>MobileUsageRatio</th><th>UserTenure</th><th>NormalizedLength</th></tr>\n",
       "<tr><td>26</td><td>0</td><td>67019</td><td>2014-12-16 01:21:00</td><td>1</td><td>23825</td><td>Caught Up In You</td><td>.38 Special</td><td>200</td><td>Pauline Mead</td><td>1</td><td>47575 Heather App...</td><td>17509</td><td>2013-03-29</td><td>1</td><td>0</td><td>4</td><td>1</td><td>3</td><td>1</td><td>0</td><td>1356</td><td>12113</td><td>12</td><td>0.5154867256637168</td><td>4275</td><td>0.2</td></tr>\n",
       "<tr><td>26</td><td>0</td><td>134577</td><td>2014-11-18 01:34:00</td><td>1</td><td>12944</td><td>Caught Up In You</td><td>.38 Special</td><td>200</td><td>Pauline Mead</td><td>1</td><td>47575 Heather App...</td><td>17509</td><td>2013-03-29</td><td>1</td><td>0</td><td>4</td><td>1</td><td>3</td><td>1</td><td>0</td><td>1356</td><td>12113</td><td>12</td><td>0.5154867256637168</td><td>4275</td><td>0.2</td></tr>\n",
       "<tr><td>26</td><td>0</td><td>160290</td><td>2014-10-04 06:51:00</td><td>1</td><td>27114</td><td>Caught Up In You</td><td>.38 Special</td><td>200</td><td>Pauline Mead</td><td>1</td><td>47575 Heather App...</td><td>17509</td><td>2013-03-29</td><td>1</td><td>0</td><td>4</td><td>1</td><td>7</td><td>6</td><td>1</td><td>1356</td><td>12113</td><td>12</td><td>0.5154867256637168</td><td>4275</td><td>0.2</td></tr>\n",
       "<tr><td>26</td><td>0</td><td>250326</td><td>2014-11-21 22:12:00</td><td>1</td><td>14170</td><td>Caught Up In You</td><td>.38 Special</td><td>200</td><td>Pauline Mead</td><td>1</td><td>47575 Heather App...</td><td>17509</td><td>2013-03-29</td><td>1</td><td>0</td><td>4</td><td>1</td><td>6</td><td>22</td><td>0</td><td>1356</td><td>12113</td><td>12</td><td>0.5154867256637168</td><td>4275</td><td>0.2</td></tr>\n",
       "<tr><td>26</td><td>0</td><td>314981</td><td>2014-10-17 23:04:00</td><td>1</td><td>3605</td><td>Caught Up In You</td><td>.38 Special</td><td>200</td><td>Pauline Mead</td><td>1</td><td>47575 Heather App...</td><td>17509</td><td>2013-03-29</td><td>1</td><td>0</td><td>4</td><td>1</td><td>6</td><td>23</td><td>0</td><td>1356</td><td>12113</td><td>12</td><td>0.5154867256637168</td><td>4275</td><td>0.2</td></tr>\n",
       "<tr><td>26</td><td>0</td><td>349377</td><td>2014-12-19 05:57:00</td><td>0</td><td>71447</td><td>Caught Up In You</td><td>.38 Special</td><td>200</td><td>Pauline Mead</td><td>1</td><td>47575 Heather App...</td><td>17509</td><td>2013-03-29</td><td>1</td><td>0</td><td>4</td><td>1</td><td>6</td><td>5</td><td>0</td><td>1356</td><td>12113</td><td>12</td><td>0.5154867256637168</td><td>4275</td><td>0.2</td></tr>\n",
       "<tr><td>26</td><td>0</td><td>424704</td><td>2014-10-30 19:09:00</td><td>0</td><td>30094</td><td>Caught Up In You</td><td>.38 Special</td><td>200</td><td>Pauline Mead</td><td>1</td><td>47575 Heather App...</td><td>17509</td><td>2013-03-29</td><td>1</td><td>0</td><td>4</td><td>1</td><td>5</td><td>19</td><td>0</td><td>1356</td><td>12113</td><td>12</td><td>0.5154867256637168</td><td>4275</td><td>0.2</td></tr>\n",
       "<tr><td>26</td><td>0</td><td>425799</td><td>2014-12-19 18:22:00</td><td>0</td><td>59729</td><td>Caught Up In You</td><td>.38 Special</td><td>200</td><td>Pauline Mead</td><td>1</td><td>47575 Heather App...</td><td>17509</td><td>2013-03-29</td><td>1</td><td>0</td><td>4</td><td>1</td><td>6</td><td>18</td><td>0</td><td>1356</td><td>12113</td><td>12</td><td>0.5154867256637168</td><td>4275</td><td>0.2</td></tr>\n",
       "<tr><td>26</td><td>0</td><td>512258</td><td>2014-10-31 21:36:00</td><td>0</td><td>17229</td><td>Caught Up In You</td><td>.38 Special</td><td>200</td><td>Pauline Mead</td><td>1</td><td>47575 Heather App...</td><td>17509</td><td>2013-03-29</td><td>1</td><td>0</td><td>4</td><td>1</td><td>6</td><td>21</td><td>0</td><td>1356</td><td>12113</td><td>12</td><td>0.5154867256637168</td><td>4275</td><td>0.2</td></tr>\n",
       "<tr><td>26</td><td>0</td><td>752288</td><td>2014-11-26 13:53:00</td><td>0</td><td>30313</td><td>Caught Up In You</td><td>.38 Special</td><td>200</td><td>Pauline Mead</td><td>1</td><td>47575 Heather App...</td><td>17509</td><td>2013-03-29</td><td>1</td><td>0</td><td>4</td><td>1</td><td>4</td><td>13</td><td>0</td><td>1356</td><td>12113</td><td>12</td><td>0.5154867256637168</td><td>4275</td><td>0.2</td></tr>\n",
       "</table>\n"
      ],
      "text/plain": [
       "+----------+-------+-------+-------------------+------+------------+----------------+-----------+------+------------+------+--------------------+-----+----------+------+-----+--------+--------------+---------+---------+---------+------------------+---------------+-------------------------+------------------+----------+----------------+\n",
       "|CustomerID|TrackId|EventID|           DateTime|Mobile|ListeningZIP|           Title|     Artist|Length|        Name|Gender|             Address|  ZIP|  SignDate|Status|Level|Campaign|LinkedWithApps|DayOfWeek|HourOfDay|IsWeekend|UserListeningCount|TrackPopularity|UserTrackInteractionCount|  MobileUsageRatio|UserTenure|NormalizedLength|\n",
       "+----------+-------+-------+-------------------+------+------------+----------------+-----------+------+------------+------+--------------------+-----+----------+------+-----+--------+--------------+---------+---------+---------+------------------+---------------+-------------------------+------------------+----------+----------------+\n",
       "|        26|      0|  67019|2014-12-16 01:21:00|     1|       23825|Caught Up In You|.38 Special|   200|Pauline Mead|     1|47575 Heather App...|17509|2013-03-29|     1|    0|       4|             1|        3|        1|        0|              1356|          12113|                       12|0.5154867256637168|      4275|             0.2|\n",
       "|        26|      0| 134577|2014-11-18 01:34:00|     1|       12944|Caught Up In You|.38 Special|   200|Pauline Mead|     1|47575 Heather App...|17509|2013-03-29|     1|    0|       4|             1|        3|        1|        0|              1356|          12113|                       12|0.5154867256637168|      4275|             0.2|\n",
       "|        26|      0| 160290|2014-10-04 06:51:00|     1|       27114|Caught Up In You|.38 Special|   200|Pauline Mead|     1|47575 Heather App...|17509|2013-03-29|     1|    0|       4|             1|        7|        6|        1|              1356|          12113|                       12|0.5154867256637168|      4275|             0.2|\n",
       "|        26|      0| 250326|2014-11-21 22:12:00|     1|       14170|Caught Up In You|.38 Special|   200|Pauline Mead|     1|47575 Heather App...|17509|2013-03-29|     1|    0|       4|             1|        6|       22|        0|              1356|          12113|                       12|0.5154867256637168|      4275|             0.2|\n",
       "|        26|      0| 314981|2014-10-17 23:04:00|     1|        3605|Caught Up In You|.38 Special|   200|Pauline Mead|     1|47575 Heather App...|17509|2013-03-29|     1|    0|       4|             1|        6|       23|        0|              1356|          12113|                       12|0.5154867256637168|      4275|             0.2|\n",
       "|        26|      0| 349377|2014-12-19 05:57:00|     0|       71447|Caught Up In You|.38 Special|   200|Pauline Mead|     1|47575 Heather App...|17509|2013-03-29|     1|    0|       4|             1|        6|        5|        0|              1356|          12113|                       12|0.5154867256637168|      4275|             0.2|\n",
       "|        26|      0| 424704|2014-10-30 19:09:00|     0|       30094|Caught Up In You|.38 Special|   200|Pauline Mead|     1|47575 Heather App...|17509|2013-03-29|     1|    0|       4|             1|        5|       19|        0|              1356|          12113|                       12|0.5154867256637168|      4275|             0.2|\n",
       "|        26|      0| 425799|2014-12-19 18:22:00|     0|       59729|Caught Up In You|.38 Special|   200|Pauline Mead|     1|47575 Heather App...|17509|2013-03-29|     1|    0|       4|             1|        6|       18|        0|              1356|          12113|                       12|0.5154867256637168|      4275|             0.2|\n",
       "|        26|      0| 512258|2014-10-31 21:36:00|     0|       17229|Caught Up In You|.38 Special|   200|Pauline Mead|     1|47575 Heather App...|17509|2013-03-29|     1|    0|       4|             1|        6|       21|        0|              1356|          12113|                       12|0.5154867256637168|      4275|             0.2|\n",
       "|        26|      0| 752288|2014-11-26 13:53:00|     0|       30313|Caught Up In You|.38 Special|   200|Pauline Mead|     1|47575 Heather App...|17509|2013-03-29|     1|    0|       4|             1|        4|       13|        0|              1356|          12113|                       12|0.5154867256637168|      4275|             0.2|\n",
       "+----------+-------+-------+-------------------+------+------------+----------------+-----------+------+------------+------+--------------------+-----+----------+------+-----+--------+--------------+---------+---------+---------+------------------+---------------+-------------------------+------------------+----------+----------------+"
      ]
     },
     "execution_count": 49,
     "metadata": {},
     "output_type": "execute_result"
    }
   ],
   "source": [
    "joined_df.limit(10)\n",
    "# joined_df.limit(10).toPandas()"
   ]
  },
  {
   "cell_type": "code",
   "execution_count": 50,
   "id": "96b61843",
   "metadata": {},
   "outputs": [],
   "source": [
    "# User listening diversity\n",
    "# Create the user listening diversity feature\n",
    "joined_df = joined_df.withColumn(\n",
    "    \"UserTrackDiversity\",\n",
    "    size(collect_set(\"TrackId\").over(window_spec)) / count(\"EventID\").over(window_spec)\n",
    ")"
   ]
  },
  {
   "cell_type": "code",
   "execution_count": 51,
   "id": "c46ba109",
   "metadata": {},
   "outputs": [],
   "source": [
    "# Recency feature\n",
    "joined_df = joined_df.withColumn(\"LastListenDate\", max(\"DateTime\").over(window_spec))\n",
    "joined_df = joined_df.withColumn(\"DaysSinceLastListen\", datediff(current_date(), \"LastListenDate\"))"
   ]
  },
  {
   "cell_type": "code",
   "execution_count": 52,
   "id": "e7ef0eb8",
   "metadata": {},
   "outputs": [
    {
     "name": "stderr",
     "output_type": "stream",
     "text": [
      "                                                                                \r"
     ]
    },
    {
     "data": {
      "text/html": [
       "<table border='1'>\n",
       "<tr><th>CustomerID</th><th>TrackId</th><th>EventID</th><th>DateTime</th><th>Mobile</th><th>ListeningZIP</th><th>Title</th><th>Artist</th><th>Length</th><th>Name</th><th>Gender</th><th>Address</th><th>ZIP</th><th>SignDate</th><th>Status</th><th>Level</th><th>Campaign</th><th>LinkedWithApps</th><th>DayOfWeek</th><th>HourOfDay</th><th>IsWeekend</th><th>UserListeningCount</th><th>TrackPopularity</th><th>UserTrackInteractionCount</th><th>MobileUsageRatio</th><th>UserTenure</th><th>NormalizedLength</th><th>UserTrackDiversity</th><th>LastListenDate</th><th>DaysSinceLastListen</th></tr>\n",
       "<tr><td>26</td><td>0</td><td>67019</td><td>2014-12-16 01:21:00</td><td>1</td><td>23825</td><td>Caught Up In You</td><td>.38 Special</td><td>200</td><td>Pauline Mead</td><td>1</td><td>47575 Heather App...</td><td>17509</td><td>2013-03-29</td><td>1</td><td>0</td><td>4</td><td>1</td><td>3</td><td>1</td><td>0</td><td>1356</td><td>12113</td><td>12</td><td>0.5154867256637168</td><td>4275</td><td>0.2</td><td>0.6231563421828908</td><td>2014-12-30 23:44:00</td><td>3634</td></tr>\n",
       "<tr><td>26</td><td>0</td><td>134577</td><td>2014-11-18 01:34:00</td><td>1</td><td>12944</td><td>Caught Up In You</td><td>.38 Special</td><td>200</td><td>Pauline Mead</td><td>1</td><td>47575 Heather App...</td><td>17509</td><td>2013-03-29</td><td>1</td><td>0</td><td>4</td><td>1</td><td>3</td><td>1</td><td>0</td><td>1356</td><td>12113</td><td>12</td><td>0.5154867256637168</td><td>4275</td><td>0.2</td><td>0.6231563421828908</td><td>2014-12-30 23:44:00</td><td>3634</td></tr>\n",
       "<tr><td>26</td><td>0</td><td>160290</td><td>2014-10-04 06:51:00</td><td>1</td><td>27114</td><td>Caught Up In You</td><td>.38 Special</td><td>200</td><td>Pauline Mead</td><td>1</td><td>47575 Heather App...</td><td>17509</td><td>2013-03-29</td><td>1</td><td>0</td><td>4</td><td>1</td><td>7</td><td>6</td><td>1</td><td>1356</td><td>12113</td><td>12</td><td>0.5154867256637168</td><td>4275</td><td>0.2</td><td>0.6231563421828908</td><td>2014-12-30 23:44:00</td><td>3634</td></tr>\n",
       "<tr><td>26</td><td>0</td><td>250326</td><td>2014-11-21 22:12:00</td><td>1</td><td>14170</td><td>Caught Up In You</td><td>.38 Special</td><td>200</td><td>Pauline Mead</td><td>1</td><td>47575 Heather App...</td><td>17509</td><td>2013-03-29</td><td>1</td><td>0</td><td>4</td><td>1</td><td>6</td><td>22</td><td>0</td><td>1356</td><td>12113</td><td>12</td><td>0.5154867256637168</td><td>4275</td><td>0.2</td><td>0.6231563421828908</td><td>2014-12-30 23:44:00</td><td>3634</td></tr>\n",
       "<tr><td>26</td><td>0</td><td>314981</td><td>2014-10-17 23:04:00</td><td>1</td><td>3605</td><td>Caught Up In You</td><td>.38 Special</td><td>200</td><td>Pauline Mead</td><td>1</td><td>47575 Heather App...</td><td>17509</td><td>2013-03-29</td><td>1</td><td>0</td><td>4</td><td>1</td><td>6</td><td>23</td><td>0</td><td>1356</td><td>12113</td><td>12</td><td>0.5154867256637168</td><td>4275</td><td>0.2</td><td>0.6231563421828908</td><td>2014-12-30 23:44:00</td><td>3634</td></tr>\n",
       "<tr><td>26</td><td>0</td><td>349377</td><td>2014-12-19 05:57:00</td><td>0</td><td>71447</td><td>Caught Up In You</td><td>.38 Special</td><td>200</td><td>Pauline Mead</td><td>1</td><td>47575 Heather App...</td><td>17509</td><td>2013-03-29</td><td>1</td><td>0</td><td>4</td><td>1</td><td>6</td><td>5</td><td>0</td><td>1356</td><td>12113</td><td>12</td><td>0.5154867256637168</td><td>4275</td><td>0.2</td><td>0.6231563421828908</td><td>2014-12-30 23:44:00</td><td>3634</td></tr>\n",
       "<tr><td>26</td><td>0</td><td>424704</td><td>2014-10-30 19:09:00</td><td>0</td><td>30094</td><td>Caught Up In You</td><td>.38 Special</td><td>200</td><td>Pauline Mead</td><td>1</td><td>47575 Heather App...</td><td>17509</td><td>2013-03-29</td><td>1</td><td>0</td><td>4</td><td>1</td><td>5</td><td>19</td><td>0</td><td>1356</td><td>12113</td><td>12</td><td>0.5154867256637168</td><td>4275</td><td>0.2</td><td>0.6231563421828908</td><td>2014-12-30 23:44:00</td><td>3634</td></tr>\n",
       "<tr><td>26</td><td>0</td><td>425799</td><td>2014-12-19 18:22:00</td><td>0</td><td>59729</td><td>Caught Up In You</td><td>.38 Special</td><td>200</td><td>Pauline Mead</td><td>1</td><td>47575 Heather App...</td><td>17509</td><td>2013-03-29</td><td>1</td><td>0</td><td>4</td><td>1</td><td>6</td><td>18</td><td>0</td><td>1356</td><td>12113</td><td>12</td><td>0.5154867256637168</td><td>4275</td><td>0.2</td><td>0.6231563421828908</td><td>2014-12-30 23:44:00</td><td>3634</td></tr>\n",
       "<tr><td>26</td><td>0</td><td>512258</td><td>2014-10-31 21:36:00</td><td>0</td><td>17229</td><td>Caught Up In You</td><td>.38 Special</td><td>200</td><td>Pauline Mead</td><td>1</td><td>47575 Heather App...</td><td>17509</td><td>2013-03-29</td><td>1</td><td>0</td><td>4</td><td>1</td><td>6</td><td>21</td><td>0</td><td>1356</td><td>12113</td><td>12</td><td>0.5154867256637168</td><td>4275</td><td>0.2</td><td>0.6231563421828908</td><td>2014-12-30 23:44:00</td><td>3634</td></tr>\n",
       "<tr><td>26</td><td>0</td><td>752288</td><td>2014-11-26 13:53:00</td><td>0</td><td>30313</td><td>Caught Up In You</td><td>.38 Special</td><td>200</td><td>Pauline Mead</td><td>1</td><td>47575 Heather App...</td><td>17509</td><td>2013-03-29</td><td>1</td><td>0</td><td>4</td><td>1</td><td>4</td><td>13</td><td>0</td><td>1356</td><td>12113</td><td>12</td><td>0.5154867256637168</td><td>4275</td><td>0.2</td><td>0.6231563421828908</td><td>2014-12-30 23:44:00</td><td>3634</td></tr>\n",
       "</table>\n"
      ],
      "text/plain": [
       "+----------+-------+-------+-------------------+------+------------+----------------+-----------+------+------------+------+--------------------+-----+----------+------+-----+--------+--------------+---------+---------+---------+------------------+---------------+-------------------------+------------------+----------+----------------+------------------+-------------------+-------------------+\n",
       "|CustomerID|TrackId|EventID|           DateTime|Mobile|ListeningZIP|           Title|     Artist|Length|        Name|Gender|             Address|  ZIP|  SignDate|Status|Level|Campaign|LinkedWithApps|DayOfWeek|HourOfDay|IsWeekend|UserListeningCount|TrackPopularity|UserTrackInteractionCount|  MobileUsageRatio|UserTenure|NormalizedLength|UserTrackDiversity|     LastListenDate|DaysSinceLastListen|\n",
       "+----------+-------+-------+-------------------+------+------------+----------------+-----------+------+------------+------+--------------------+-----+----------+------+-----+--------+--------------+---------+---------+---------+------------------+---------------+-------------------------+------------------+----------+----------------+------------------+-------------------+-------------------+\n",
       "|        26|      0|  67019|2014-12-16 01:21:00|     1|       23825|Caught Up In You|.38 Special|   200|Pauline Mead|     1|47575 Heather App...|17509|2013-03-29|     1|    0|       4|             1|        3|        1|        0|              1356|          12113|                       12|0.5154867256637168|      4275|             0.2|0.6231563421828908|2014-12-30 23:44:00|               3634|\n",
       "|        26|      0| 134577|2014-11-18 01:34:00|     1|       12944|Caught Up In You|.38 Special|   200|Pauline Mead|     1|47575 Heather App...|17509|2013-03-29|     1|    0|       4|             1|        3|        1|        0|              1356|          12113|                       12|0.5154867256637168|      4275|             0.2|0.6231563421828908|2014-12-30 23:44:00|               3634|\n",
       "|        26|      0| 160290|2014-10-04 06:51:00|     1|       27114|Caught Up In You|.38 Special|   200|Pauline Mead|     1|47575 Heather App...|17509|2013-03-29|     1|    0|       4|             1|        7|        6|        1|              1356|          12113|                       12|0.5154867256637168|      4275|             0.2|0.6231563421828908|2014-12-30 23:44:00|               3634|\n",
       "|        26|      0| 250326|2014-11-21 22:12:00|     1|       14170|Caught Up In You|.38 Special|   200|Pauline Mead|     1|47575 Heather App...|17509|2013-03-29|     1|    0|       4|             1|        6|       22|        0|              1356|          12113|                       12|0.5154867256637168|      4275|             0.2|0.6231563421828908|2014-12-30 23:44:00|               3634|\n",
       "|        26|      0| 314981|2014-10-17 23:04:00|     1|        3605|Caught Up In You|.38 Special|   200|Pauline Mead|     1|47575 Heather App...|17509|2013-03-29|     1|    0|       4|             1|        6|       23|        0|              1356|          12113|                       12|0.5154867256637168|      4275|             0.2|0.6231563421828908|2014-12-30 23:44:00|               3634|\n",
       "|        26|      0| 349377|2014-12-19 05:57:00|     0|       71447|Caught Up In You|.38 Special|   200|Pauline Mead|     1|47575 Heather App...|17509|2013-03-29|     1|    0|       4|             1|        6|        5|        0|              1356|          12113|                       12|0.5154867256637168|      4275|             0.2|0.6231563421828908|2014-12-30 23:44:00|               3634|\n",
       "|        26|      0| 424704|2014-10-30 19:09:00|     0|       30094|Caught Up In You|.38 Special|   200|Pauline Mead|     1|47575 Heather App...|17509|2013-03-29|     1|    0|       4|             1|        5|       19|        0|              1356|          12113|                       12|0.5154867256637168|      4275|             0.2|0.6231563421828908|2014-12-30 23:44:00|               3634|\n",
       "|        26|      0| 425799|2014-12-19 18:22:00|     0|       59729|Caught Up In You|.38 Special|   200|Pauline Mead|     1|47575 Heather App...|17509|2013-03-29|     1|    0|       4|             1|        6|       18|        0|              1356|          12113|                       12|0.5154867256637168|      4275|             0.2|0.6231563421828908|2014-12-30 23:44:00|               3634|\n",
       "|        26|      0| 512258|2014-10-31 21:36:00|     0|       17229|Caught Up In You|.38 Special|   200|Pauline Mead|     1|47575 Heather App...|17509|2013-03-29|     1|    0|       4|             1|        6|       21|        0|              1356|          12113|                       12|0.5154867256637168|      4275|             0.2|0.6231563421828908|2014-12-30 23:44:00|               3634|\n",
       "|        26|      0| 752288|2014-11-26 13:53:00|     0|       30313|Caught Up In You|.38 Special|   200|Pauline Mead|     1|47575 Heather App...|17509|2013-03-29|     1|    0|       4|             1|        4|       13|        0|              1356|          12113|                       12|0.5154867256637168|      4275|             0.2|0.6231563421828908|2014-12-30 23:44:00|               3634|\n",
       "+----------+-------+-------+-------------------+------+------------+----------------+-----------+------+------------+------+--------------------+-----+----------+------+-----+--------+--------------+---------+---------+---------+------------------+---------------+-------------------------+------------------+----------+----------------+------------------+-------------------+-------------------+"
      ]
     },
     "execution_count": 52,
     "metadata": {},
     "output_type": "execute_result"
    }
   ],
   "source": [
    "joined_df.limit(10)\n",
    "# joined_df.limit(10).toPandas()"
   ]
  },
  {
   "cell_type": "code",
   "execution_count": 53,
   "id": "a57b65b1",
   "metadata": {},
   "outputs": [
    {
     "name": "stderr",
     "output_type": "stream",
     "text": [
      "                                                                                \r"
     ]
    }
   ],
   "source": [
    "# Apply the transformations\n",
    "pipeline = Pipeline(stages=[artist_indexer, artist_encoder])\n",
    "transformed_df = pipeline.fit(joined_df).transform(joined_df)"
   ]
  },
  {
   "cell_type": "code",
   "execution_count": 54,
   "id": "167cb145",
   "metadata": {},
   "outputs": [],
   "source": [
    "# Select relevant columns for the final feature set\n",
    "feature_cols = [\"CustomerID\", \"TrackId\", \"DayOfWeek\", \"HourOfDay\", \"IsWeekend\", \"UserListeningCount\", \n",
    "                \"TrackPopularity\", \"UserTrackInteractionCount\", \"MobileUsageRatio\", \"UserTenure\", \n",
    "                \"NormalizedLength\", \"UserTrackDiversity\", \"DaysSinceLastListen\", \"ArtistVector\"]"
   ]
  },
  {
   "cell_type": "code",
   "execution_count": 55,
   "id": "533400ce",
   "metadata": {},
   "outputs": [],
   "source": [
    "final_df = transformed_df.select(feature_cols)"
   ]
  },
  {
   "cell_type": "code",
   "execution_count": 56,
   "id": "e474f423",
   "metadata": {},
   "outputs": [],
   "source": [
    "# Assemble features into a single vector column\n",
    "assembler = VectorAssembler(inputCols=[col for col in feature_cols if col not in [\"CustomerID\", \"TrackId\"]], \n",
    "                            outputCol=\"features\")\n",
    "final_features_df = assembler.transform(final_df)"
   ]
  },
  {
   "cell_type": "markdown",
   "id": "605ffd1a",
   "metadata": {},
   "source": [
    "### Final Dataset with all the required features"
   ]
  },
  {
   "cell_type": "code",
   "execution_count": 57,
   "id": "7b774957",
   "metadata": {},
   "outputs": [
    {
     "name": "stderr",
     "output_type": "stream",
     "text": [
      "                                                                                \r"
     ]
    },
    {
     "data": {
      "text/html": [
       "<table border='1'>\n",
       "<tr><th>CustomerID</th><th>TrackId</th><th>DayOfWeek</th><th>HourOfDay</th><th>IsWeekend</th><th>UserListeningCount</th><th>TrackPopularity</th><th>UserTrackInteractionCount</th><th>MobileUsageRatio</th><th>UserTenure</th><th>NormalizedLength</th><th>UserTrackDiversity</th><th>DaysSinceLastListen</th><th>ArtistVector</th><th>features</th></tr>\n",
       "<tr><td>26</td><td>0</td><td>3</td><td>1</td><td>0</td><td>1356</td><td>12113</td><td>12</td><td>0.5154867256637168</td><td>4275</td><td>0.2</td><td>0.6231563421828908</td><td>3634</td><td>(507,[2],[1.0])</td><td>(518,[0,1,3,4,5,6...</td></tr>\n",
       "<tr><td>26</td><td>0</td><td>3</td><td>1</td><td>0</td><td>1356</td><td>12113</td><td>12</td><td>0.5154867256637168</td><td>4275</td><td>0.2</td><td>0.6231563421828908</td><td>3634</td><td>(507,[2],[1.0])</td><td>(518,[0,1,3,4,5,6...</td></tr>\n",
       "<tr><td>26</td><td>0</td><td>7</td><td>6</td><td>1</td><td>1356</td><td>12113</td><td>12</td><td>0.5154867256637168</td><td>4275</td><td>0.2</td><td>0.6231563421828908</td><td>3634</td><td>(507,[2],[1.0])</td><td>(518,[0,1,2,3,4,5...</td></tr>\n",
       "<tr><td>26</td><td>0</td><td>6</td><td>22</td><td>0</td><td>1356</td><td>12113</td><td>12</td><td>0.5154867256637168</td><td>4275</td><td>0.2</td><td>0.6231563421828908</td><td>3634</td><td>(507,[2],[1.0])</td><td>(518,[0,1,3,4,5,6...</td></tr>\n",
       "<tr><td>26</td><td>0</td><td>6</td><td>23</td><td>0</td><td>1356</td><td>12113</td><td>12</td><td>0.5154867256637168</td><td>4275</td><td>0.2</td><td>0.6231563421828908</td><td>3634</td><td>(507,[2],[1.0])</td><td>(518,[0,1,3,4,5,6...</td></tr>\n",
       "<tr><td>26</td><td>0</td><td>6</td><td>5</td><td>0</td><td>1356</td><td>12113</td><td>12</td><td>0.5154867256637168</td><td>4275</td><td>0.2</td><td>0.6231563421828908</td><td>3634</td><td>(507,[2],[1.0])</td><td>(518,[0,1,3,4,5,6...</td></tr>\n",
       "<tr><td>26</td><td>0</td><td>5</td><td>19</td><td>0</td><td>1356</td><td>12113</td><td>12</td><td>0.5154867256637168</td><td>4275</td><td>0.2</td><td>0.6231563421828908</td><td>3634</td><td>(507,[2],[1.0])</td><td>(518,[0,1,3,4,5,6...</td></tr>\n",
       "<tr><td>26</td><td>0</td><td>6</td><td>18</td><td>0</td><td>1356</td><td>12113</td><td>12</td><td>0.5154867256637168</td><td>4275</td><td>0.2</td><td>0.6231563421828908</td><td>3634</td><td>(507,[2],[1.0])</td><td>(518,[0,1,3,4,5,6...</td></tr>\n",
       "<tr><td>26</td><td>0</td><td>6</td><td>21</td><td>0</td><td>1356</td><td>12113</td><td>12</td><td>0.5154867256637168</td><td>4275</td><td>0.2</td><td>0.6231563421828908</td><td>3634</td><td>(507,[2],[1.0])</td><td>(518,[0,1,3,4,5,6...</td></tr>\n",
       "<tr><td>26</td><td>0</td><td>4</td><td>13</td><td>0</td><td>1356</td><td>12113</td><td>12</td><td>0.5154867256637168</td><td>4275</td><td>0.2</td><td>0.6231563421828908</td><td>3634</td><td>(507,[2],[1.0])</td><td>(518,[0,1,3,4,5,6...</td></tr>\n",
       "</table>\n"
      ],
      "text/plain": [
       "+----------+-------+---------+---------+---------+------------------+---------------+-------------------------+------------------+----------+----------------+------------------+-------------------+---------------+--------------------+\n",
       "|CustomerID|TrackId|DayOfWeek|HourOfDay|IsWeekend|UserListeningCount|TrackPopularity|UserTrackInteractionCount|  MobileUsageRatio|UserTenure|NormalizedLength|UserTrackDiversity|DaysSinceLastListen|   ArtistVector|            features|\n",
       "+----------+-------+---------+---------+---------+------------------+---------------+-------------------------+------------------+----------+----------------+------------------+-------------------+---------------+--------------------+\n",
       "|        26|      0|        3|        1|        0|              1356|          12113|                       12|0.5154867256637168|      4275|             0.2|0.6231563421828908|               3634|(507,[2],[1.0])|(518,[0,1,3,4,5,6...|\n",
       "|        26|      0|        3|        1|        0|              1356|          12113|                       12|0.5154867256637168|      4275|             0.2|0.6231563421828908|               3634|(507,[2],[1.0])|(518,[0,1,3,4,5,6...|\n",
       "|        26|      0|        7|        6|        1|              1356|          12113|                       12|0.5154867256637168|      4275|             0.2|0.6231563421828908|               3634|(507,[2],[1.0])|(518,[0,1,2,3,4,5...|\n",
       "|        26|      0|        6|       22|        0|              1356|          12113|                       12|0.5154867256637168|      4275|             0.2|0.6231563421828908|               3634|(507,[2],[1.0])|(518,[0,1,3,4,5,6...|\n",
       "|        26|      0|        6|       23|        0|              1356|          12113|                       12|0.5154867256637168|      4275|             0.2|0.6231563421828908|               3634|(507,[2],[1.0])|(518,[0,1,3,4,5,6...|\n",
       "|        26|      0|        6|        5|        0|              1356|          12113|                       12|0.5154867256637168|      4275|             0.2|0.6231563421828908|               3634|(507,[2],[1.0])|(518,[0,1,3,4,5,6...|\n",
       "|        26|      0|        5|       19|        0|              1356|          12113|                       12|0.5154867256637168|      4275|             0.2|0.6231563421828908|               3634|(507,[2],[1.0])|(518,[0,1,3,4,5,6...|\n",
       "|        26|      0|        6|       18|        0|              1356|          12113|                       12|0.5154867256637168|      4275|             0.2|0.6231563421828908|               3634|(507,[2],[1.0])|(518,[0,1,3,4,5,6...|\n",
       "|        26|      0|        6|       21|        0|              1356|          12113|                       12|0.5154867256637168|      4275|             0.2|0.6231563421828908|               3634|(507,[2],[1.0])|(518,[0,1,3,4,5,6...|\n",
       "|        26|      0|        4|       13|        0|              1356|          12113|                       12|0.5154867256637168|      4275|             0.2|0.6231563421828908|               3634|(507,[2],[1.0])|(518,[0,1,3,4,5,6...|\n",
       "+----------+-------+---------+---------+---------+------------------+---------------+-------------------------+------------------+----------+----------------+------------------+-------------------+---------------+--------------------+"
      ]
     },
     "execution_count": 57,
     "metadata": {},
     "output_type": "execute_result"
    }
   ],
   "source": [
    "# Show the resulting dataframe\n",
    "final_features_df.limit(10)\n",
    "# final_features_df.toPandas()"
   ]
  },
  {
   "cell_type": "code",
   "execution_count": 58,
   "id": "f4275ae6",
   "metadata": {},
   "outputs": [],
   "source": [
    "# # Save the feature engineered dataset\n",
    "# final_features_df.write.parquet(\"music_recommendation_features.parquet\")"
   ]
  },
  {
   "cell_type": "markdown",
   "id": "645c63f6",
   "metadata": {},
   "source": [
    "## Implementing the ALS model to match users, find similar tracks and recommend new tracks\n",
    "Each user (CustomerId) listens to a track (TrackId) some n number of times (UserTrackInteractionCount). Intuition is that the more a user listens to a track, the higher the likelihood of them rating it highly i.e., liking the song. We can now use collaborative filtering to find user similarity scores."
   ]
  },
  {
   "cell_type": "code",
   "execution_count": 60,
   "id": "4399202a",
   "metadata": {},
   "outputs": [],
   "source": [
    "# Cosine similarity UDF\n",
    "def cosine_similarity(v1, v2):\n",
    "    v1_array = np.array(v1)\n",
    "    v2_array = np.array(v2)\n",
    "    return float(np.dot(v1_array, v2_array) / (np.linalg.norm(v1_array) * np.linalg.norm(v2_array)))\n",
    "\n",
    "cosine_similarity_udf = udf(cosine_similarity, FloatType())\n",
    "\n",
    "def get_recommendations(spark, joined_df, target_user_id, num_recommendations=10, num_similar_users=5, model=None):\n",
    "    # Prepare data for ALS\n",
    "    als_data = joined_df.select(\n",
    "        col(\"CustomerID\").alias(\"user\"),\n",
    "        col(\"TrackId\").alias(\"item\"),\n",
    "        col(\"UserTrackInteractionCount\").alias(\"rating\")\n",
    "    )\n",
    "\n",
    "    # Split data into training and test sets\n",
    "    (training, test) = als_data.randomSplit([0.8, 0.2])\n",
    "\n",
    "    # Train a default ALS model\n",
    "    if model is None:\n",
    "        als = ALS(\n",
    "            rank=10,\n",
    "            maxIter=5,\n",
    "            regParam=0.01,\n",
    "            alpha = 0.1,\n",
    "            userCol=\"user\",\n",
    "            itemCol=\"item\",\n",
    "            ratingCol=\"rating\",\n",
    "            coldStartStrategy=\"drop\"\n",
    "        )\n",
    "        model = als.fit(training)\n",
    "\n",
    "    # Make predictions on the test set\n",
    "    predictions = model.transform(test)\n",
    "\n",
    "    # Evaluate the model using RMSE and MAE\n",
    "    evaluator = RegressionEvaluator(metricName=\"rmse\", labelCol=\"rating\", predictionCol=\"prediction\")\n",
    "    rmse = evaluator.evaluate(predictions)\n",
    "\n",
    "    evaluator = RegressionEvaluator(metricName=\"mae\", labelCol=\"rating\", predictionCol=\"prediction\")\n",
    "    mae = evaluator.evaluate(predictions)\n",
    "\n",
    "    # Get user factors for similarity calculation\n",
    "    user_factors = model.userFactors\n",
    "\n",
    "    # Get target user's features\n",
    "    target_user_factor = user_factors.filter(col(\"id\") == target_user_id).select(\"features\").first()[0]\n",
    "\n",
    "    if isinstance(target_user_factor, list):\n",
    "        target_user_factor_list = target_user_factor\n",
    "    else:\n",
    "        target_user_factor_list = target_user_factor.toArray().tolist()\n",
    "\n",
    "    similarity_df = user_factors.filter(col(\"id\") != target_user_id).select(\n",
    "        col(\"id\").alias(\"similar_user\"),\n",
    "        cosine_similarity_udf(col(\"features\"), lit(target_user_factor_list)).alias(\"similarity\")\n",
    "    )\n",
    "\n",
    "    # Get top 5 similar users\n",
    "    top_similar_users = similarity_df.orderBy(col(\"similarity\").desc()).limit(num_similar_users)\n",
    "\n",
    "    # Generate recommendations for the target user\n",
    "    user_recs = model.recommendForUserSubset(\n",
    "        spark.createDataFrame([(target_user_id,)], [\"user\"]), num_recommendations\n",
    "    )\n",
    "\n",
    "    # Extract recommended track IDs and scores\n",
    "    recommended_tracks = user_recs.select(expr(\"explode(recommendations)\")).select(\n",
    "        col(\"col.item\").alias(\"TrackId\"),\n",
    "    )\n",
    "\n",
    "    # Get details of recommended tracks\n",
    "    recommended_tracks = recommended_tracks.join(\n",
    "        joined_df.select(\"TrackId\", \"Title\", \"Artist\").distinct(),\n",
    "        \"TrackId\"\n",
    "    )\n",
    "\n",
    "    return top_similar_users, recommended_tracks, rmse, mae"
   ]
  },
  {
   "cell_type": "code",
   "execution_count": 61,
   "id": "6c6a9407",
   "metadata": {
    "scrolled": true
   },
   "outputs": [
    {
     "name": "stderr",
     "output_type": "stream",
     "text": [
      "24/12/11 13:22:43 WARN InstanceBuilder: Failed to load implementation from:dev.ludovic.netlib.blas.JNIBLAS\n",
      "24/12/11 13:22:43 WARN InstanceBuilder: Failed to load implementation from:dev.ludovic.netlib.lapack.JNILAPACK\n",
      "                                                                                \r"
     ]
    },
    {
     "name": "stdout",
     "output_type": "stream",
     "text": [
      "Model Evaluation:\n",
      "Root Mean Squared Error (RMSE): 0.5734261096741297\n",
      "Mean Absolute Error (MAE): 0.34952338533832056\n",
      "\n",
      "Top 5 Similar Users:\n"
     ]
    },
    {
     "name": "stderr",
     "output_type": "stream",
     "text": [
      "                                                                                \r"
     ]
    },
    {
     "name": "stdout",
     "output_type": "stream",
     "text": [
      "+------------+----------+\n",
      "|similar_user|similarity|\n",
      "+------------+----------+\n",
      "|        3155| 0.9878468|\n",
      "|        3952| 0.9854446|\n",
      "|         961|0.98277175|\n",
      "|         316|0.98224396|\n",
      "|        1074| 0.9819884|\n",
      "+------------+----------+\n",
      "\n",
      "\n",
      "Recommended Tracks:\n"
     ]
    },
    {
     "name": "stderr",
     "output_type": "stream",
     "text": [
      "                                                                                \r"
     ]
    },
    {
     "name": "stdout",
     "output_type": "stream",
     "text": [
      "+-------+-----------------+------------+\n",
      "|TrackId|            Title|      Artist|\n",
      "+-------+-----------------+------------+\n",
      "|      5|       Kryptonite|3 Doors Down|\n",
      "|     17|Let There Be Rock|       AC/DC|\n",
      "|      8|    Back In Black|       AC/DC|\n",
      "|     12|   Hard As A Rock|       AC/DC|\n",
      "|      4|Art For Arts Sake|        10cc|\n",
      "|     21|    Night Prowler|       AC/DC|\n",
      "|      7|       Take On Me|        a-ha|\n",
      "|     20|       Moneytalks|       AC/DC|\n",
      "|      2|  Hold On Loosely| .38 Special|\n",
      "|      6|            Loser|3 Doors Down|\n",
      "+-------+-----------------+------------+\n",
      "\n"
     ]
    }
   ],
   "source": [
    "target_user_id = 500\n",
    "\n",
    "# Recommendation using base model\n",
    "similar_users, recommended_tracks, rmse, mae = get_recommendations(\n",
    "    spark,\n",
    "    joined_df,\n",
    "    target_user_id,\n",
    "    num_recommendations=10,\n",
    "    num_similar_users=5\n",
    ")\n",
    "\n",
    "print(f\"Model Evaluation:\")\n",
    "print(f\"Root Mean Squared Error (RMSE): {rmse}\")\n",
    "print(f\"Mean Absolute Error (MAE): {mae}\")\n",
    "\n",
    "print(\"\\nTop 5 Similar Users:\")\n",
    "similar_users.show()\n",
    "\n",
    "print(\"\\nRecommended Tracks:\")\n",
    "recommended_tracks.show()"
   ]
  },
  {
   "cell_type": "markdown",
   "id": "e0c0a039",
   "metadata": {},
   "source": [
    "## Hyperparameter Tuning"
   ]
  },
  {
   "cell_type": "code",
   "execution_count": 62,
   "id": "85f25a70",
   "metadata": {},
   "outputs": [],
   "source": [
    "def tune_als_with_tvs(training_data):\n",
    "    # Define ALS model\n",
    "    als = ALS(\n",
    "        userCol=\"user\",\n",
    "        itemCol=\"item\",\n",
    "        ratingCol=\"rating\",\n",
    "        coldStartStrategy=\"drop\"\n",
    "    )\n",
    "    \n",
    "    # Define parameter grid\n",
    "    param_grid = ParamGridBuilder().addGrid(als.rank, [10, 20, 30, 40]).addGrid(als.regParam, [0.001, 0.01, 0.05, 0.1]).addGrid(als.maxIter, [5, 10, 20, 50]).addGrid(als.alpha, [0.1, 1.0, 10.0]).build()\n",
    "    \n",
    "    # Define evaluator\n",
    "    evaluator = RegressionEvaluator(\n",
    "        metricName=\"rmse\", \n",
    "        labelCol=\"rating\", \n",
    "        predictionCol=\"prediction\"\n",
    "    )\n",
    "    \n",
    "    # Define TrainValidationSplit\n",
    "    tvs = TrainValidationSplit(\n",
    "        estimator=als,\n",
    "        estimatorParamMaps=param_grid,\n",
    "        evaluator=evaluator,\n",
    "        trainRatio=0.8\n",
    "    )\n",
    "    \n",
    "    # Fit the model using TrainValidationSplit\n",
    "    model = tvs.fit(training_data)\n",
    "    \n",
    "    # Get the best model and parameters\n",
    "    best_model = model.bestModel\n",
    "    best_params = {\n",
    "        \"rank\": best_model.rank,\n",
    "        \"regParam\": best_model._java_obj.parent().getRegParam(),\n",
    "        \"maxIter\": best_model._java_obj.parent().getMaxIter()\n",
    "    }\n",
    "    \n",
    "    return best_model, best_params\n",
    "\n"
   ]
  },
  {
   "cell_type": "code",
   "execution_count": 74,
   "id": "689cc5aa",
   "metadata": {},
   "outputs": [
    {
     "name": "stderr",
     "output_type": "stream",
     "text": [
      "                                                                                ]\r"
     ]
    },
    {
     "name": "stdout",
     "output_type": "stream",
     "text": [
      "Best Model Parameters: {'rank': 40, 'regParam': 0.05, 'maxIter': 50, 'alpha': 0.1}\n"
     ]
    }
   ],
   "source": [
    "# Prepare data for ALS\n",
    "als_data = joined_df.select(\n",
    "    col(\"CustomerID\").alias(\"user\"),\n",
    "    col(\"TrackId\").alias(\"item\"),\n",
    "    col(\"UserTrackInteractionCount\").alias(\"rating\")\n",
    ").dropna()\n",
    "\n",
    "# Ensure 'rating' column is numeric\n",
    "als_data = als_data.withColumn(\"rating\", col(\"rating\").cast(\"double\"))\n",
    "\n",
    "# Split data into training and validation sets\n",
    "(training, validation) = als_data.randomSplit([0.8, 0.2], seed=42)\n",
    "\n",
    "# Run TrainValidationSplit for hyperparameter tuning\n",
    "best_model, best_params = tune_als_with_tvs(training)\n",
    "\n",
    "print(f\"Best Model Parameters: {best_params}\")"
   ]
  },
  {
   "cell_type": "code",
   "execution_count": 76,
   "id": "488cc050",
   "metadata": {
    "scrolled": true
   },
   "outputs": [
    {
     "name": "stderr",
     "output_type": "stream",
     "text": [
      "                                                                                \r"
     ]
    },
    {
     "name": "stdout",
     "output_type": "stream",
     "text": [
      "Model Evaluation:\n",
      "Root Mean Squared Error (RMSE): 0.4316293594768517\n",
      "Mean Absolute Error (MAE): 0.2634595836472932\n",
      "\n",
      "Top 5 Similar Users:\n",
      "+------------+----------+\n",
      "|similar_user|similarity|\n",
      "+------------+----------+\n",
      "|        2836|0.82893515|\n",
      "|        3124| 0.8236726|\n",
      "|        1215|0.82338315|\n",
      "|        1506| 0.8179041|\n",
      "|        4598| 0.8163151|\n",
      "+------------+----------+\n",
      "\n",
      "\n",
      "Recommended Tracks:\n"
     ]
    },
    {
     "name": "stderr",
     "output_type": "stream",
     "text": [
      "\r\n",
      "[Stage 38022:======>                                                (1 + 7) / 8]\r\n",
      "\r\n",
      "[Stage 38022:=>             (1 + 7) / 8][Stage 38126:====>         (3 + 1) / 10]\r"
     ]
    },
    {
     "name": "stdout",
     "output_type": "stream",
     "text": [
      "+-------+--------------------+-----------+\n",
      "|TrackId|               Title|     Artist|\n",
      "+-------+--------------------+-----------+\n",
      "|      2|     Hold On Loosely|.38 Special|\n",
      "|      7|          Take On Me|       a-ha|\n",
      "|     12|      Hard As A Rock|      AC/DC|\n",
      "|     13|  Have a Drink On Me|      AC/DC|\n",
      "|      0|    Caught Up In You|.38 Special|\n",
      "|      4|   Art For Arts Sake|       10cc|\n",
      "|      3|Hold On Loosely  ...|.38 Special|\n",
      "|      8|       Back In Black|      AC/DC|\n",
      "|    102|   Turn Up the Radio|  Autograph|\n",
      "|     24| Shot Down In Flames|      AC/DC|\n",
      "+-------+--------------------+-----------+\n",
      "\n"
     ]
    },
    {
     "name": "stderr",
     "output_type": "stream",
     "text": [
      "\r\n",
      "[Stage 38022:=>             (1 + 7) / 8][Stage 38126:=========>    (7 + 1) / 10]\r\n",
      "\r\n",
      "                                                                                \r"
     ]
    }
   ],
   "source": [
    "#For the best_model(one after hyperparameter tuning)\n",
    "similar_users, recommended_tracks, rmse, mae = get_recommendations(\n",
    "    spark,\n",
    "    joined_df,\n",
    "    target_user_id=500,\n",
    "    num_recommendations=10,\n",
    "    num_similar_users=5,\n",
    "    model=best_model\n",
    ")\n",
    "\n",
    "print(f\"Model Evaluation:\")\n",
    "print(f\"Root Mean Squared Error (RMSE): {rmse}\")\n",
    "print(f\"Mean Absolute Error (MAE): {mae}\")\n",
    "\n",
    "print(\"\\nTop 5 Similar Users:\")\n",
    "similar_users.show()\n",
    "\n",
    "print(\"\\nRecommended Tracks:\")\n",
    "recommended_tracks.show()\n"
   ]
  },
  {
   "cell_type": "markdown",
   "id": "bceaa026",
   "metadata": {},
   "source": [
    "## Generating a detailed report using ChatGPT API"
   ]
  },
  {
   "cell_type": "code",
   "execution_count": 77,
   "id": "a74f8d07",
   "metadata": {},
   "outputs": [],
   "source": [
    "def get_user_name(joined_df, user_id):\n",
    "    return joined_df.filter(col(\"CustomerID\") == user_id).select(\"Name\").first()[0]\n",
    "\n",
    "def get_user_stats(joined_df, user_id):\n",
    "    # Get total number of unique songs and artists listened\n",
    "    stats = joined_df.filter(col(\"CustomerID\") == user_id).agg(\n",
    "        countDistinct(\"TrackId\").alias(\"total_songs\"),\n",
    "        countDistinct(\"Artist\").alias(\"total_artists\"),\n",
    "        sum(\"UserTrackInteractionCount\").alias(\"total_listens\")\n",
    "    ).first()\n",
    "    return stats\n",
    "\n",
    "def get_top_songs_and_artists(joined_df, user_id, n=5):\n",
    "    # Get top songs with their interaction counts\n",
    "    top_songs = joined_df.filter(col(\"CustomerID\") == user_id) \\\n",
    "        .groupBy(\"TrackId\", \"Title\", \"Artist\") \\\n",
    "        .agg({\"UserTrackInteractionCount\": \"sum\"}) \\\n",
    "        .orderBy(desc(\"sum(UserTrackInteractionCount)\")) \\\n",
    "        .limit(n)\n",
    "    \n",
    "    # Get top artists with their interaction counts\n",
    "    top_artists = joined_df.filter(col(\"CustomerID\") == user_id) \\\n",
    "        .groupBy(\"Artist\") \\\n",
    "        .agg({\"UserTrackInteractionCount\": \"sum\"}) \\\n",
    "        .orderBy(desc(\"sum(UserTrackInteractionCount)\")) \\\n",
    "        .limit(n)\n",
    "    \n",
    "    return top_songs.collect(), top_artists.collect()\n",
    "\n",
    "def analyze_user_character_and_moods(top_songs, top_artists, client):\n",
    "    # Prepare the song and artist information for ChatGPT\n",
    "    songs_info = [f\"{song.Title} by {song.Artist}\" for song in top_songs]\n",
    "    artists_info = [artist.Artist for artist in top_artists]\n",
    "    \n",
    "    prompt = f\"\"\"\n",
    "    Based on these top songs:\n",
    "    {', '.join(songs_info)}\n",
    "    \n",
    "    And top artists:\n",
    "    {', '.join(artists_info)}\n",
    "    \n",
    "    Please provide:\n",
    "    1. Main Character Energy: Give a creative title and one-line description that captures the essence of this music taste\n",
    "    2. Musical Moods: Analyze and provide the following mood distribution based on the songs:\n",
    "       - Love ({22}%)\n",
    "       - Dramatic ({21}%)\n",
    "       - Sad ({21}%)\n",
    "       - Chill ({21}%)\n",
    "       - Upbeat ({12}%)\n",
    "\n",
    "    Please note: If the musical mood percentage is lesser than 15 percent, then do not include that mood. \n",
    "    Only show moods which are having high percentage and recompute percentage so that it makes 100 percent.\n",
    "    \n",
    "    Format your response exactly like this:\n",
    "    Main Character Energy: [title] - [description]\n",
    "    Musical Moods: [mood distribution analysis - comma separated and having percentage]\n",
    "    \"\"\"\n",
    "    \n",
    "    response = client.chat.completions.create(\n",
    "        model=\"gpt-3.5-turbo\",\n",
    "        messages=[\n",
    "            {\"role\": \"system\", \"content\": \"You are a music analyst providing insights on listener preferences.\"},\n",
    "            {\"role\": \"user\", \"content\": prompt}\n",
    "        ]\n",
    "    )\n",
    "    \n",
    "    return response.choices[0].message.content\n",
    "\n",
    "def generate_report(target_user_id, target_user_name, similar_users, similar_user_names, recommended_tracks, top_songs, top_artists):\n",
    "    # Initialize the OpenAI client\n",
    "    client = OpenAI(api_key=os.environ.get(\"OPENAI_API_KEY\"))\n",
    "    \n",
    "    # Get user stats and character analysis\n",
    "    stats = get_user_stats(joined_df, target_user_id)\n",
    "    character_and_moods = analyze_user_character_and_moods(top_songs, top_artists, client)\n",
    "    \n",
    "    # Prepare the input for the final report\n",
    "    similar_users_info = [f\"{id}: {name}\" for id, name in zip(similar_users, similar_user_names)]\n",
    "    tracks_info = [f\"{track.Title} by {track.Artist}\" for track in recommended_tracks]\n",
    "    top_songs_info = [f\"{song.Title} by {song.Artist}\" for song in top_songs]\n",
    "    top_artists_info = [artist.Artist for artist in top_artists]\n",
    "    \n",
    "    prompt = f\"\"\"\n",
    "    Generate a creative report for a music recommendation system with the following information:\n",
    "    \n",
    "    Target User: {target_user_name} (ID: {target_user_id})\n",
    "    \n",
    "    Listening Stats:\n",
    "    Total Songs: {stats.total_songs}\n",
    "    Total Artists: {stats.total_artists}\n",
    "    Total Listens: {stats.total_listens}\n",
    "    \n",
    "    {character_and_moods}\n",
    "    \n",
    "    Top 5 Songs:\n",
    "    {', '.join(top_songs_info)}\n",
    "    \n",
    "    Top 5 Artists:\n",
    "    {', '.join(top_artists_info)}\n",
    "    \n",
    "    Top Similar Users:\n",
    "    {', '.join(similar_users_info)}\n",
    "    \n",
    "    Recommended Tracks:\n",
    "    {', '.join(tracks_info)}\n",
    "    \n",
    "    Please provide a creative and engaging summary that includes:\n",
    "    1. A list of top 5 songs, 5 artists, 5 similar users and 5 recommended tracks as well as main character energy and moods\n",
    "    2. Overview of the user's listening habits and stats\n",
    "    3. Analysis of their music taste based on top songs and artists\n",
    "    4. Description of their musical personality and mood preferences\n",
    "    5. List the name of the top match (Your top match is name_of_the_user!)\n",
    "    6. Explanation of why they match with their top similar user\n",
    "    7. Personalized recommendations explanation\n",
    "    \"\"\"\n",
    "\n",
    "    response = client.chat.completions.create(\n",
    "        model=\"gpt-3.5-turbo\",\n",
    "        messages=[\n",
    "            {\"role\": \"system\", \"content\": \"You are a music analyst providing insights on listener preferences.\"},\n",
    "            {\"role\": \"user\", \"content\": prompt}\n",
    "        ]\n",
    "    )\n",
    "\n",
    "    return response.choices[0].message.content\n"
   ]
  },
  {
   "cell_type": "code",
   "execution_count": 78,
   "id": "2ba01dd7",
   "metadata": {},
   "outputs": [
    {
     "name": "stderr",
     "output_type": "stream",
     "text": [
      "                                                                                \r"
     ]
    },
    {
     "name": "stdout",
     "output_type": "stream",
     "text": [
      "### Music Recommendation Report for Francisco Thomas (ID: 500)\n",
      "\n",
      "#### Main Character Energy:\n",
      "Francisco Thomas embodies the spirit of a Rebel Rocker with a penchant for rebellious rock anthems that evoke a lively sense of freedom and resistance.\n",
      "\n",
      "#### Musical Moods:\n",
      "Dramatic (30%), Sad (30%), Chill (30%), Upbeat (10%)\n",
      "\n",
      "#### Overview:\n",
      "Francisco Thomas has listened to a total of 263 songs by 158 artists, accumulating a total of 428 listens.\n",
      "\n",
      "#### Music Taste Analysis:\n",
      "Francisco's top songs include classics like \"Take On Me\" by a-ha and \"Paranoid\" by Black Sabbath, with top artists such as AC/DC and Aerosmith dominating the list. His preference for these iconic rock tracks showcases a love for high-energy, rebellious tunes.\n",
      "\n",
      "#### Musical Personality and Mood Preferences:\n",
      "Francisco's music taste leans towards dramatic and sad moods, balanced by a significant chill vibe. The upbeat tracks in his playlist add a touch of energy, reflecting a dynamic and versatile musical personality.\n",
      "\n",
      "#### Top Similar Users:\n",
      "1. Brent Shotwell\n",
      "2. Tony Martinez\n",
      "3. Jason Thornell\n",
      "4. Julie Ayers\n",
      "5. Maryann Ferrell\n",
      "\n",
      "#### Top Match:\n",
      "Your top match is Brent Shotwell!\n",
      "\n",
      "#### Why Francisco Matches with Brent:\n",
      "Francisco shares a musical kinship with Brent due to their mutual appreciation for rock classics and rebellious anthems. Both users gravitate towards similar artists and songs, indicating a strong alignment in their music preferences.\n",
      "\n",
      "#### Personalized Recommendations:\n",
      "- \"Back In Black\" by AC/DC: Embrace the raw power of rock with this legendary hit.\n",
      "- \"Caught Up In You\" by .38 Special: Feel the infectious groove of this upbeat track.\n",
      "- \"Have a Drink On Me\" by AC/DC: Raise a glass to this classic rock anthem.\n",
      "- \"Art For Arts Sake\" by 10cc: Explore a blend of rock and pop with this dynamic tune.\n",
      "- \"Turn Up the Radio\" by Autograph: Crank up the volume and rock out to this electrifying song.\n",
      "\n",
      "#### Conclusion:\n",
      "Francisco Thomas, the Rebel Rocker, finds solace in the rebellious energy of classic rock anthems, blending dramatic and chill moods with a touch of sadness. With a musical taste that resonates with iconic artists and timeless songs, Francisco's playlist is a testament to his vibrant spirit and appreciation for the rebellious essence of rock music.\n"
     ]
    }
   ],
   "source": [
    "target_user_id = 500\n",
    "# similar_users, recommendations = get_recommendations(spark, joined_df, target_user_id)\n",
    "\n",
    "# Get names for target user and similar users\n",
    "target_user_name = get_user_name(joined_df, target_user_id)\n",
    "similar_user_ids = [row.similar_user for row in similar_users.collect()]\n",
    "similar_user_names = [get_user_name(joined_df, user_id) for user_id in similar_user_ids]\n",
    "\n",
    "# Get top songs and artists for the target user\n",
    "top_songs, top_artists = get_top_songs_and_artists(joined_df, target_user_id)\n",
    "\n",
    "# Generate the report\n",
    "report = generate_report(target_user_id, target_user_name, similar_user_ids, similar_user_names, \n",
    "                        recommended_tracks.collect(), top_songs, top_artists)\n",
    "\n",
    "print(report)"
   ]
  },
  {
   "cell_type": "code",
   "execution_count": null,
   "id": "c494a129",
   "metadata": {},
   "outputs": [],
   "source": []
  }
 ],
 "metadata": {
  "kernelspec": {
   "display_name": "Python 3 (ipykernel)",
   "language": "python",
   "name": "python3"
  },
  "language_info": {
   "codemirror_mode": {
    "name": "ipython",
    "version": 3
   },
   "file_extension": ".py",
   "mimetype": "text/x-python",
   "name": "python",
   "nbconvert_exporter": "python",
   "pygments_lexer": "ipython3",
   "version": "3.12.4"
  }
 },
 "nbformat": 4,
 "nbformat_minor": 5
}
